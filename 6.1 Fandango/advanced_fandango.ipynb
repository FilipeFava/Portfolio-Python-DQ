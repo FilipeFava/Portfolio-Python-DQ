{
 "cells": [
  {
   "cell_type": "markdown",
   "id": "1120bd54",
   "metadata": {},
   "source": [
    "# Fool me twice(...)\n",
    "## Is Fandango still inflating movie ratings?\n",
    "\n",
    "![banner](https://www.theguesthouseocala.com/wp-content/uploads/2020/07/22-2.jpeg)"
   ]
  },
  {
   "cell_type": "markdown",
   "id": "3d80f63f",
   "metadata": {},
   "source": [
    "## Abstract\n",
    "\n",
    "In October 2015, FiveThirtyEight's article on Fandango's biased movie rating system shook the company's image in the film industry. We take a closer look at what changed after that and compare their statistics to other 3 main competitors.\n",
    "\n",
    "The results were as follows:\n",
    "\n",
    "* Mode and mean fell from (4.5->4) and (4.09->3.89), respectively. \n",
    "* More sensibly, 'A' scores went from 45% to 27%. \n",
    "* their ratings still skewing a lot to the right ('optimistic')\n",
    "* ratings distributions before and after the article are, indeed, significantly different\n",
    "* Metascore is the closest to ideal: nearly normalized rating centered around the average, hard to score 5's and 0's"
   ]
  },
  {
   "cell_type": "markdown",
   "id": "f70a94cd",
   "metadata": {},
   "source": [
    "## Table of Contents\n",
    "\n",
    "1. [**Introduction**](#section1)\n",
    "2. [**Goals and limitations**](#section2)\n",
    "3. [**Methodology**](#section3)\n",
    "4. [**Metadata**](#section4)\n",
    "5. [**Data Exploration and Transformation**](#section5)      \n",
    "6. [**Data Visualization and Analysis**](#section6)\n",
    "7. [**Conclusion**](#section7)"
   ]
  },
  {
   "cell_type": "markdown",
   "id": "8521c731",
   "metadata": {},
   "source": [
    "## 1. Introduction<a name=\"section1\"></a>\n",
    "\n",
    "Online movie ratings mean serious business in Hollywood. The american film industry produces around US$ 10 billion annually in the american box office, and such ratings aggregator websites probably weight considerably on the scale as to where this money goes. Gone are the days that a single movie critic could make or break a film, but thousands of reviewers combined, both amateurs and professionals, apparently still hold this power.\n",
    "\n",
    "In October 2015, FiveThirtyEight [analyzed movie ratings data](https://fivethirtyeight.com/features/fandango-movies-ratings/) from the website Fandango and found compelling evidence suggesting they were inflating the rating numbers. The rounding on their rating scale from 0-5 stars was always to the nearest half star ABOVE the actual rating, instead of rounding to the nearest valid score on their website. Not only that, for 8 % of the cases, the rouding up was done to the nearest whole start (4.5 stars woud become 5).\n",
    "\n",
    "Consider also that there was no global rating lower than 3 stars for movie releases from that year, for all the 209 movies with more than 30 reviews. The overestimation became even clearer comparing to Fandango's major competitors: they were around the same ball park, averaging 75-80% of their movies with a rating half a start lower. And while the competitors pretend to have distant relations with the media industry - I said pretend!, Fandango itself is a NBCUniversal subsidiary that actually sells tickets to the movies on which it offers reviews, so that definitely adds to the bigger picture.\n",
    "\n",
    "Fandango replied at the time it was a glitch on their website that caused these discrepancies, and indeed rounding up was not an issue on their app - which still doesn't explain the global minimum of 3 stars and consistent higher rating compared to its pairs. However, they claimed they would fix this bug right away, and now, but did they really?"
   ]
  },
  {
   "cell_type": "markdown",
   "id": "37142cc4",
   "metadata": {},
   "source": [
    "## 2. Goals, scope and limitations<a name=\"section2\"></a>\n",
    "\n",
    "Scope:\n",
    "The population of interest for our analysis comprises all the movie ratings stored on Fandango's website, regardless of the releasing year.\n",
    "\n",
    "Since comparing before and after FiverThirtyEight's article, we are interested in sampling the population at these two different periods (before/after Oct 2015)\n",
    "\n",
    "Limitations:\n",
    "1. We only have data for 'popular movies', i.e., movies that had a minimum number of reviews depending on that definition by two different data sources. \n",
    "\n",
    "2. We only have data for two very restrictive time periods:movies that have had tickets on sale in 2014/15; movies that were released between 2016/17. These restrictive periods allow for temporal trends (the movies might have been extremely good during these two short periods).\n",
    "\n",
    "3. It is not clear which Nonparametric Statistical hypothesis test would be the best for this project. There seems to be limitations depending on whether the data is continuous or discrete, but we found no restrictions with the Mann-Whitney U Test.\n",
    "\n",
    "These limitations make the sampling unrepresentative for our generalistic goals, and so we must narrow our scope only to popular movies as well in order to be able to use the same data: \n",
    "\n",
    "Delimited goals:\n",
    "\n",
    "* Determine whether there's any difference between Fandango's ratings for popular movies in 2014/15 and Fandango's ratings for popular movies in 2016/17, following FiveThirtyEight's article; \n",
    "\n",
    "* Compare ratings of different movie ratings aggregators and recommend what's the best website to check for a movie rating."
   ]
  },
  {
   "cell_type": "markdown",
   "id": "d8116b71",
   "metadata": {},
   "source": [
    "## 3. Methodology<a name=\"section3\"></a>\n",
    "\n",
    "We'll analyze both datasets with pandas, matplotlib and seaborn. For the first goal, we'll use kernel distribution, bar plots of before and after for each possible rating (0-5 starts, for every 0.5 start) and compare the median, mean and mode for both 'Before' and 'After'.\n",
    "\n",
    "We'll also deploy scipy.stats in the Mann-Whitney U Test to compare the ratings distributions from before and after the article to see if they are significantly different.\n",
    "\n",
    "For comparing the most reliable movie rating aggregator, we will compare their ratings' distributions, trying to find the one closest to a normal distribution."
   ]
  },
  {
   "cell_type": "markdown",
   "id": "f8077a01",
   "metadata": {},
   "source": [
    "## 4. Metadata<a name=\"section4\"></a>\n",
    "\n",
    "For the FiveThirtyEight report data, the reporter, Walt Hickey, made it available [on Github](https://github.com/fivethirtyeight/data/tree/master/fandango).\n",
    "\n",
    "<table>\n",
    "<thead>\n",
    "<tr>\n",
    "<th>Column</th>\n",
    "<th>Definition</th>\n",
    "</tr>\n",
    "</thead>\n",
    "<tbody>\n",
    "<tr>\n",
    "<td>FILM</td>\n",
    "<td>The film in question</td>\n",
    "</tr>\n",
    "<tr>\n",
    "<td>RottenTomatoes</td>\n",
    "<td>The Rotten Tomatoes Tomatometer score  for the film</td>\n",
    "</tr>\n",
    "<tr>\n",
    "<td>RottenTomatoes_User</td>\n",
    "<td>The Rotten Tomatoes user score for the film</td>\n",
    "</tr>\n",
    "<tr>\n",
    "<td>Metacritic</td>\n",
    "<td>The Metacritic critic score for the film</td>\n",
    "</tr>\n",
    "<tr>\n",
    "<td>Metacritic_User</td>\n",
    "<td>The Metacritic user score for the film</td>\n",
    "</tr>\n",
    "<tr>\n",
    "<td>IMDB</td>\n",
    "<td>The IMDb user score for the film</td>\n",
    "</tr>\n",
    "<tr>\n",
    "<td>Fandango_Stars</td>\n",
    "<td>The number of stars the film had on its Fandango movie page</td>\n",
    "</tr>\n",
    "<tr>\n",
    "<td>Fandango_Ratingvalue</td>\n",
    "<td>The Fandango ratingValue for the film, as pulled from the HTML of each page. This is the actual average score the movie obtained.</td>\n",
    "</tr>\n",
    "<tr>\n",
    "<td>RT_norm</td>\n",
    "<td>The Rotten Tomatoes Tomatometer score  for the film , normalized to a 0 to 5 point system</td>\n",
    "</tr>\n",
    "<tr>\n",
    "<td>RT_user_norm</td>\n",
    "<td>The Rotten Tomatoes user score for the film , normalized to a 0 to 5 point system</td>\n",
    "</tr>\n",
    "<tr>\n",
    "<td>Metacritic_norm</td>\n",
    "<td>The Metacritic critic score for the film, normalized to a 0 to 5 point system</td>\n",
    "</tr>\n",
    "<tr>\n",
    "<td>Metacritic_user_nom</td>\n",
    "<td>The Metacritic user score for the film, normalized to a 0 to 5 point system</td>\n",
    "</tr>\n",
    "<tr>\n",
    "<td>IMDB_norm</td>\n",
    "<td>The IMDb user score for the film, normalized to a 0 to 5 point system</td>\n",
    "</tr>\n",
    "<tr>\n",
    "<td>RT_norm_round</td>\n",
    "<td>The Rotten Tomatoes Tomatometer score  for the film , normalized to a 0 to 5 point system and rounded to the nearest half-star</td>\n",
    "</tr>\n",
    "<tr>\n",
    "<td>RT_user_norm_round</td>\n",
    "<td>The Rotten Tomatoes user score for the film , normalized to a 0 to 5 point system and rounded to the nearest half-star</td>\n",
    "</tr>\n",
    "<tr>\n",
    "<td>Metacritic_norm_round</td>\n",
    "<td>The Metacritic critic score for the film, normalized to a 0 to 5 point system and rounded to the nearest half-star</td>\n",
    "</tr>\n",
    "<tr>\n",
    "<td>Metacritic_user_norm_round</td>\n",
    "<td>The Metacritic user score for the film, normalized to a 0 to 5 point system and rounded to the nearest half-star</td>\n",
    "</tr>\n",
    "<tr>\n",
    "<td>IMDB_norm_round</td>\n",
    "<td>The IMDb user score for the film, normalized to a 0 to 5 point system and rounded to the nearest half-star</td>\n",
    "</tr>\n",
    "<tr>\n",
    "<td>Metacritic_user_vote_count</td>\n",
    "<td>The number of user votes the film had on Metacritic</td>\n",
    "</tr>\n",
    "<tr>\n",
    "<td>IMDB_user_vote_count</td>\n",
    "<td>The number of user votes the film had on IMDb</td>\n",
    "</tr>\n",
    "<tr>\n",
    "<td>Fandango_votes</td>\n",
    "<td>The number of user votes the film had on Fandango</td>\n",
    "</tr>\n",
    "<tr>\n",
    "<td>Fandango_Difference</td>\n",
    "<td>The difference between the presented Fandango_Stars and the actual Fandango_Ratingvalue</td>\n",
    "</tr>\n",
    "</tbody>\n",
    "</table>\n",
    "\n",
    "For the latter data, we can obtain it from a dataquest student profile also [on Github](https://github.com/mircealex/Movie_ratings_2016_17)\n",
    "\n",
    "<table>\n",
    "<thead>\n",
    "<tr>\n",
    "<th>Column</th>\n",
    "<th>Description</th>\n",
    "</tr>\n",
    "</thead>\n",
    "<tbody>\n",
    "<tr>\n",
    "<td>movie</td>\n",
    "<td>the name of the movie</td>\n",
    "</tr>\n",
    "<tr>\n",
    "<td>year</td>\n",
    "<td>the release year of the movie</td>\n",
    "</tr>\n",
    "<tr>\n",
    "<td>metascore</td>\n",
    "<td>the Metacritic rating of the movie (the \"metascore\" - critic score)</td>\n",
    "</tr>\n",
    "<tr>\n",
    "<td>imdb</td>\n",
    "<td>the IMDB rating of the movie (user score)</td>\n",
    "</tr>\n",
    "<tr>\n",
    "<td>tmeter</td>\n",
    "<td>the Rotten Tomatoes rating of the movie (the \"tomatometer\" - critic score)</td>\n",
    "</tr>\n",
    "<tr>\n",
    "<td>audience</td>\n",
    "<td>the Rotten Tomatoes rating of the movie (user score)</td>\n",
    "</tr>\n",
    "<tr>\n",
    "<td>fandango</td>\n",
    "<td>the Fandango rating of the movie (user score)</td>\n",
    "</tr>\n",
    "<tr>\n",
    "<td>n_metascore</td>\n",
    "<td>the metascore normalized to a 0-5 scale</td>\n",
    "</tr>\n",
    "<tr>\n",
    "<td>n_imdb</td>\n",
    "<td>the IMDB rating normalized to a 0-5 scale</td>\n",
    "</tr>\n",
    "<tr>\n",
    "<td>n_tmeter</td>\n",
    "<td>the tomatometer normalized to a 0-5 scale</td>\n",
    "</tr>\n",
    "<tr>\n",
    "<td>n_audience</td>\n",
    "<td>the Rotten Tomatoes user score normalized to a 0-5 scale</td>\n",
    "</tr>\n",
    "<tr>\n",
    "<td>nr_metascore</td>\n",
    "<td>the metascore normalized to a 0-5 scale and rounded to the nearest 0.5</td>\n",
    "</tr>\n",
    "<tr>\n",
    "<td>nr_imdb</td>\n",
    "<td>the IMDB rating normalized to a 0-5 scale and rounded to the nearest 0.5</td>\n",
    "</tr>\n",
    "<tr>\n",
    "<td>nr_tmeter</td>\n",
    "<td>the tomatometer normalized to a 0-5 scale and rounded to the nearest 0.5</td>\n",
    "</tr>\n",
    "<tr>\n",
    "<td>nr_audience</td>\n",
    "<td>the Rotten Tomatoes user score normalized to a 0-5 scale and rounded to the nearest 0.5</td>\n",
    "</tr>\n",
    "</tbody>\n",
    "</table>"
   ]
  },
  {
   "cell_type": "markdown",
   "id": "a1e2e028",
   "metadata": {},
   "source": [
    "## 5. Data Exploration and Transformation<a name=\"section5\"></a>\n",
    "\n",
    "0. unwanted columns and reasonableness\n",
    "1. Are the samples really popular?\n",
    "2. Check for data type;\n",
    "3. missing/repeated data."
   ]
  },
  {
   "cell_type": "code",
   "execution_count": 1,
   "id": "fe87e1f0",
   "metadata": {},
   "outputs": [],
   "source": [
    "import pandas as pd\n",
    "import matplotlib.pyplot as plt\n",
    "import seaborn as sns\n",
    "from scipy.stats import percentileofscore\n",
    "\n",
    "before = pd.read_csv('fandango_score_comparison.csv')\n",
    "after = pd.read_csv('ratings_16_17.csv')"
   ]
  },
  {
   "cell_type": "code",
   "execution_count": 2,
   "id": "f7de6033",
   "metadata": {},
   "outputs": [
    {
     "name": "stdout",
     "output_type": "stream",
     "text": [
      "<class 'pandas.core.frame.DataFrame'>\n",
      "RangeIndex: 146 entries, 0 to 145\n",
      "Data columns (total 22 columns):\n",
      " #   Column                      Non-Null Count  Dtype  \n",
      "---  ------                      --------------  -----  \n",
      " 0   FILM                        146 non-null    object \n",
      " 1   RottenTomatoes              146 non-null    int64  \n",
      " 2   RottenTomatoes_User         146 non-null    int64  \n",
      " 3   Metacritic                  146 non-null    int64  \n",
      " 4   Metacritic_User             146 non-null    float64\n",
      " 5   IMDB                        146 non-null    float64\n",
      " 6   Fandango_Stars              146 non-null    float64\n",
      " 7   Fandango_Ratingvalue        146 non-null    float64\n",
      " 8   RT_norm                     146 non-null    float64\n",
      " 9   RT_user_norm                146 non-null    float64\n",
      " 10  Metacritic_norm             146 non-null    float64\n",
      " 11  Metacritic_user_nom         146 non-null    float64\n",
      " 12  IMDB_norm                   146 non-null    float64\n",
      " 13  RT_norm_round               146 non-null    float64\n",
      " 14  RT_user_norm_round          146 non-null    float64\n",
      " 15  Metacritic_norm_round       146 non-null    float64\n",
      " 16  Metacritic_user_norm_round  146 non-null    float64\n",
      " 17  IMDB_norm_round             146 non-null    float64\n",
      " 18  Metacritic_user_vote_count  146 non-null    int64  \n",
      " 19  IMDB_user_vote_count        146 non-null    int64  \n",
      " 20  Fandango_votes              146 non-null    int64  \n",
      " 21  Fandango_Difference         146 non-null    float64\n",
      "dtypes: float64(15), int64(6), object(1)\n",
      "memory usage: 25.2+ KB\n"
     ]
    }
   ],
   "source": [
    "#0. unwanted columns and reasonableness \n",
    "before.info()"
   ]
  },
  {
   "cell_type": "code",
   "execution_count": 3,
   "id": "97ee9427",
   "metadata": {},
   "outputs": [
    {
     "data": {
      "text/html": [
       "<div>\n",
       "<style scoped>\n",
       "    .dataframe tbody tr th:only-of-type {\n",
       "        vertical-align: middle;\n",
       "    }\n",
       "\n",
       "    .dataframe tbody tr th {\n",
       "        vertical-align: top;\n",
       "    }\n",
       "\n",
       "    .dataframe thead th {\n",
       "        text-align: right;\n",
       "    }\n",
       "</style>\n",
       "<table border=\"1\" class=\"dataframe\">\n",
       "  <thead>\n",
       "    <tr style=\"text-align: right;\">\n",
       "      <th></th>\n",
       "      <th>FILM</th>\n",
       "      <th>RottenTomatoes</th>\n",
       "      <th>RottenTomatoes_User</th>\n",
       "      <th>Metacritic</th>\n",
       "      <th>Metacritic_User</th>\n",
       "      <th>IMDB</th>\n",
       "      <th>Fandango_Stars</th>\n",
       "      <th>Fandango_Ratingvalue</th>\n",
       "      <th>RT_norm</th>\n",
       "      <th>RT_user_norm</th>\n",
       "      <th>...</th>\n",
       "      <th>RT_norm_round</th>\n",
       "      <th>RT_user_norm_round</th>\n",
       "      <th>Metacritic_norm_round</th>\n",
       "      <th>Metacritic_user_norm_round</th>\n",
       "      <th>IMDB_norm_round</th>\n",
       "      <th>Metacritic_user_vote_count</th>\n",
       "      <th>IMDB_user_vote_count</th>\n",
       "      <th>Fandango_votes</th>\n",
       "      <th>Fandango_Difference</th>\n",
       "      <th>Year</th>\n",
       "    </tr>\n",
       "  </thead>\n",
       "  <tbody>\n",
       "    <tr>\n",
       "      <th>0</th>\n",
       "      <td>Avengers: Age of Ultron (2015)</td>\n",
       "      <td>74</td>\n",
       "      <td>86</td>\n",
       "      <td>66</td>\n",
       "      <td>7.1</td>\n",
       "      <td>7.8</td>\n",
       "      <td>5.0</td>\n",
       "      <td>4.5</td>\n",
       "      <td>3.70</td>\n",
       "      <td>4.3</td>\n",
       "      <td>...</td>\n",
       "      <td>3.5</td>\n",
       "      <td>4.5</td>\n",
       "      <td>3.5</td>\n",
       "      <td>3.5</td>\n",
       "      <td>4.0</td>\n",
       "      <td>1330</td>\n",
       "      <td>271107</td>\n",
       "      <td>14846</td>\n",
       "      <td>0.5</td>\n",
       "      <td>2015</td>\n",
       "    </tr>\n",
       "    <tr>\n",
       "      <th>1</th>\n",
       "      <td>Cinderella (2015)</td>\n",
       "      <td>85</td>\n",
       "      <td>80</td>\n",
       "      <td>67</td>\n",
       "      <td>7.5</td>\n",
       "      <td>7.1</td>\n",
       "      <td>5.0</td>\n",
       "      <td>4.5</td>\n",
       "      <td>4.25</td>\n",
       "      <td>4.0</td>\n",
       "      <td>...</td>\n",
       "      <td>4.5</td>\n",
       "      <td>4.0</td>\n",
       "      <td>3.5</td>\n",
       "      <td>4.0</td>\n",
       "      <td>3.5</td>\n",
       "      <td>249</td>\n",
       "      <td>65709</td>\n",
       "      <td>12640</td>\n",
       "      <td>0.5</td>\n",
       "      <td>2015</td>\n",
       "    </tr>\n",
       "    <tr>\n",
       "      <th>2</th>\n",
       "      <td>Ant-Man (2015)</td>\n",
       "      <td>80</td>\n",
       "      <td>90</td>\n",
       "      <td>64</td>\n",
       "      <td>8.1</td>\n",
       "      <td>7.8</td>\n",
       "      <td>5.0</td>\n",
       "      <td>4.5</td>\n",
       "      <td>4.00</td>\n",
       "      <td>4.5</td>\n",
       "      <td>...</td>\n",
       "      <td>4.0</td>\n",
       "      <td>4.5</td>\n",
       "      <td>3.0</td>\n",
       "      <td>4.0</td>\n",
       "      <td>4.0</td>\n",
       "      <td>627</td>\n",
       "      <td>103660</td>\n",
       "      <td>12055</td>\n",
       "      <td>0.5</td>\n",
       "      <td>2015</td>\n",
       "    </tr>\n",
       "    <tr>\n",
       "      <th>3</th>\n",
       "      <td>Do You Believe? (2015)</td>\n",
       "      <td>18</td>\n",
       "      <td>84</td>\n",
       "      <td>22</td>\n",
       "      <td>4.7</td>\n",
       "      <td>5.4</td>\n",
       "      <td>5.0</td>\n",
       "      <td>4.5</td>\n",
       "      <td>0.90</td>\n",
       "      <td>4.2</td>\n",
       "      <td>...</td>\n",
       "      <td>1.0</td>\n",
       "      <td>4.0</td>\n",
       "      <td>1.0</td>\n",
       "      <td>2.5</td>\n",
       "      <td>2.5</td>\n",
       "      <td>31</td>\n",
       "      <td>3136</td>\n",
       "      <td>1793</td>\n",
       "      <td>0.5</td>\n",
       "      <td>2015</td>\n",
       "    </tr>\n",
       "    <tr>\n",
       "      <th>4</th>\n",
       "      <td>Hot Tub Time Machine 2 (2015)</td>\n",
       "      <td>14</td>\n",
       "      <td>28</td>\n",
       "      <td>29</td>\n",
       "      <td>3.4</td>\n",
       "      <td>5.1</td>\n",
       "      <td>3.5</td>\n",
       "      <td>3.0</td>\n",
       "      <td>0.70</td>\n",
       "      <td>1.4</td>\n",
       "      <td>...</td>\n",
       "      <td>0.5</td>\n",
       "      <td>1.5</td>\n",
       "      <td>1.5</td>\n",
       "      <td>1.5</td>\n",
       "      <td>2.5</td>\n",
       "      <td>88</td>\n",
       "      <td>19560</td>\n",
       "      <td>1021</td>\n",
       "      <td>0.5</td>\n",
       "      <td>2015</td>\n",
       "    </tr>\n",
       "  </tbody>\n",
       "</table>\n",
       "<p>5 rows × 23 columns</p>\n",
       "</div>"
      ],
      "text/plain": [
       "                             FILM  RottenTomatoes  RottenTomatoes_User  \\\n",
       "0  Avengers: Age of Ultron (2015)              74                   86   \n",
       "1               Cinderella (2015)              85                   80   \n",
       "2                  Ant-Man (2015)              80                   90   \n",
       "3          Do You Believe? (2015)              18                   84   \n",
       "4   Hot Tub Time Machine 2 (2015)              14                   28   \n",
       "\n",
       "   Metacritic  Metacritic_User  IMDB  Fandango_Stars  Fandango_Ratingvalue  \\\n",
       "0          66              7.1   7.8             5.0                   4.5   \n",
       "1          67              7.5   7.1             5.0                   4.5   \n",
       "2          64              8.1   7.8             5.0                   4.5   \n",
       "3          22              4.7   5.4             5.0                   4.5   \n",
       "4          29              3.4   5.1             3.5                   3.0   \n",
       "\n",
       "   RT_norm  RT_user_norm  ...  RT_norm_round  RT_user_norm_round  \\\n",
       "0     3.70           4.3  ...            3.5                 4.5   \n",
       "1     4.25           4.0  ...            4.5                 4.0   \n",
       "2     4.00           4.5  ...            4.0                 4.5   \n",
       "3     0.90           4.2  ...            1.0                 4.0   \n",
       "4     0.70           1.4  ...            0.5                 1.5   \n",
       "\n",
       "   Metacritic_norm_round  Metacritic_user_norm_round  IMDB_norm_round  \\\n",
       "0                    3.5                         3.5              4.0   \n",
       "1                    3.5                         4.0              3.5   \n",
       "2                    3.0                         4.0              4.0   \n",
       "3                    1.0                         2.5              2.5   \n",
       "4                    1.5                         1.5              2.5   \n",
       "\n",
       "   Metacritic_user_vote_count  IMDB_user_vote_count  Fandango_votes  \\\n",
       "0                        1330                271107           14846   \n",
       "1                         249                 65709           12640   \n",
       "2                         627                103660           12055   \n",
       "3                          31                  3136            1793   \n",
       "4                          88                 19560            1021   \n",
       "\n",
       "   Fandango_Difference  Year  \n",
       "0                  0.5  2015  \n",
       "1                  0.5  2015  \n",
       "2                  0.5  2015  \n",
       "3                  0.5  2015  \n",
       "4                  0.5  2015  \n",
       "\n",
       "[5 rows x 23 columns]"
      ]
     },
     "execution_count": 3,
     "metadata": {},
     "output_type": "execute_result"
    }
   ],
   "source": [
    "#0. unwanted columns and reasonableness \n",
    "before['Year'] = (before['FILM'].str[-5:-1]).astype(int)\n",
    "before.head()"
   ]
  },
  {
   "cell_type": "code",
   "execution_count": 4,
   "id": "707f7afa",
   "metadata": {},
   "outputs": [
    {
     "name": "stdout",
     "output_type": "stream",
     "text": [
      "<class 'pandas.core.frame.DataFrame'>\n",
      "RangeIndex: 214 entries, 0 to 213\n",
      "Data columns (total 15 columns):\n",
      " #   Column        Non-Null Count  Dtype  \n",
      "---  ------        --------------  -----  \n",
      " 0   movie         214 non-null    object \n",
      " 1   year          214 non-null    int64  \n",
      " 2   metascore     214 non-null    int64  \n",
      " 3   imdb          214 non-null    float64\n",
      " 4   tmeter        214 non-null    int64  \n",
      " 5   audience      214 non-null    int64  \n",
      " 6   fandango      214 non-null    float64\n",
      " 7   n_metascore   214 non-null    float64\n",
      " 8   n_imdb        214 non-null    float64\n",
      " 9   n_tmeter      214 non-null    float64\n",
      " 10  n_audience    214 non-null    float64\n",
      " 11  nr_metascore  214 non-null    float64\n",
      " 12  nr_imdb       214 non-null    float64\n",
      " 13  nr_tmeter     214 non-null    float64\n",
      " 14  nr_audience   214 non-null    float64\n",
      "dtypes: float64(10), int64(4), object(1)\n",
      "memory usage: 25.2+ KB\n"
     ]
    }
   ],
   "source": [
    "#0. unwanted columns and reasonableness \n",
    "after.info()#"
   ]
  },
  {
   "cell_type": "code",
   "execution_count": 5,
   "id": "9ef0a2ef",
   "metadata": {},
   "outputs": [
    {
     "data": {
      "text/html": [
       "<div>\n",
       "<style scoped>\n",
       "    .dataframe tbody tr th:only-of-type {\n",
       "        vertical-align: middle;\n",
       "    }\n",
       "\n",
       "    .dataframe tbody tr th {\n",
       "        vertical-align: top;\n",
       "    }\n",
       "\n",
       "    .dataframe thead th {\n",
       "        text-align: right;\n",
       "    }\n",
       "</style>\n",
       "<table border=\"1\" class=\"dataframe\">\n",
       "  <thead>\n",
       "    <tr style=\"text-align: right;\">\n",
       "      <th></th>\n",
       "      <th>movie</th>\n",
       "      <th>year</th>\n",
       "      <th>metascore</th>\n",
       "      <th>imdb</th>\n",
       "      <th>tmeter</th>\n",
       "      <th>audience</th>\n",
       "      <th>fandango</th>\n",
       "      <th>n_metascore</th>\n",
       "      <th>n_imdb</th>\n",
       "      <th>n_tmeter</th>\n",
       "      <th>n_audience</th>\n",
       "      <th>nr_metascore</th>\n",
       "      <th>nr_imdb</th>\n",
       "      <th>nr_tmeter</th>\n",
       "      <th>nr_audience</th>\n",
       "    </tr>\n",
       "  </thead>\n",
       "  <tbody>\n",
       "    <tr>\n",
       "      <th>191</th>\n",
       "      <td>The Perfect Match</td>\n",
       "      <td>2016</td>\n",
       "      <td>41</td>\n",
       "      <td>4.8</td>\n",
       "      <td>27</td>\n",
       "      <td>45</td>\n",
       "      <td>4.0</td>\n",
       "      <td>2.05</td>\n",
       "      <td>2.40</td>\n",
       "      <td>1.35</td>\n",
       "      <td>2.25</td>\n",
       "      <td>2.0</td>\n",
       "      <td>2.5</td>\n",
       "      <td>1.5</td>\n",
       "      <td>2.0</td>\n",
       "    </tr>\n",
       "    <tr>\n",
       "      <th>59</th>\n",
       "      <td>Genius</td>\n",
       "      <td>2016</td>\n",
       "      <td>56</td>\n",
       "      <td>6.5</td>\n",
       "      <td>51</td>\n",
       "      <td>45</td>\n",
       "      <td>3.5</td>\n",
       "      <td>2.80</td>\n",
       "      <td>3.25</td>\n",
       "      <td>2.55</td>\n",
       "      <td>2.25</td>\n",
       "      <td>3.0</td>\n",
       "      <td>3.0</td>\n",
       "      <td>2.5</td>\n",
       "      <td>2.0</td>\n",
       "    </tr>\n",
       "    <tr>\n",
       "      <th>138</th>\n",
       "      <td>Rings</td>\n",
       "      <td>2017</td>\n",
       "      <td>25</td>\n",
       "      <td>4.5</td>\n",
       "      <td>6</td>\n",
       "      <td>28</td>\n",
       "      <td>3.0</td>\n",
       "      <td>1.25</td>\n",
       "      <td>2.25</td>\n",
       "      <td>0.30</td>\n",
       "      <td>1.40</td>\n",
       "      <td>1.0</td>\n",
       "      <td>2.0</td>\n",
       "      <td>0.5</td>\n",
       "      <td>1.5</td>\n",
       "    </tr>\n",
       "    <tr>\n",
       "      <th>77</th>\n",
       "      <td>In a Valley of Violence</td>\n",
       "      <td>2016</td>\n",
       "      <td>64</td>\n",
       "      <td>6.0</td>\n",
       "      <td>76</td>\n",
       "      <td>54</td>\n",
       "      <td>4.0</td>\n",
       "      <td>3.20</td>\n",
       "      <td>3.00</td>\n",
       "      <td>3.80</td>\n",
       "      <td>2.70</td>\n",
       "      <td>3.0</td>\n",
       "      <td>3.0</td>\n",
       "      <td>4.0</td>\n",
       "      <td>2.5</td>\n",
       "    </tr>\n",
       "    <tr>\n",
       "      <th>1</th>\n",
       "      <td>13 Hours</td>\n",
       "      <td>2016</td>\n",
       "      <td>48</td>\n",
       "      <td>7.3</td>\n",
       "      <td>50</td>\n",
       "      <td>83</td>\n",
       "      <td>4.5</td>\n",
       "      <td>2.40</td>\n",
       "      <td>3.65</td>\n",
       "      <td>2.50</td>\n",
       "      <td>4.15</td>\n",
       "      <td>2.5</td>\n",
       "      <td>3.5</td>\n",
       "      <td>2.5</td>\n",
       "      <td>4.0</td>\n",
       "    </tr>\n",
       "  </tbody>\n",
       "</table>\n",
       "</div>"
      ],
      "text/plain": [
       "                       movie  year  metascore  imdb  tmeter  audience  \\\n",
       "191        The Perfect Match  2016         41   4.8      27        45   \n",
       "59                    Genius  2016         56   6.5      51        45   \n",
       "138                    Rings  2017         25   4.5       6        28   \n",
       "77   In a Valley of Violence  2016         64   6.0      76        54   \n",
       "1                   13 Hours  2016         48   7.3      50        83   \n",
       "\n",
       "     fandango  n_metascore  n_imdb  n_tmeter  n_audience  nr_metascore  \\\n",
       "191       4.0         2.05    2.40      1.35        2.25           2.0   \n",
       "59        3.5         2.80    3.25      2.55        2.25           3.0   \n",
       "138       3.0         1.25    2.25      0.30        1.40           1.0   \n",
       "77        4.0         3.20    3.00      3.80        2.70           3.0   \n",
       "1         4.5         2.40    3.65      2.50        4.15           2.5   \n",
       "\n",
       "     nr_imdb  nr_tmeter  nr_audience  \n",
       "191      2.5        1.5          2.0  \n",
       "59       3.0        2.5          2.0  \n",
       "138      2.0        0.5          1.5  \n",
       "77       3.0        4.0          2.5  \n",
       "1        3.5        2.5          4.0  "
      ]
     },
     "execution_count": 5,
     "metadata": {},
     "output_type": "execute_result"
    }
   ],
   "source": [
    "#0. unwanted columns and reasonableness \n",
    "after.sample(5)"
   ]
  },
  {
   "cell_type": "code",
   "execution_count": 6,
   "id": "d6c618e5",
   "metadata": {},
   "outputs": [],
   "source": [
    "#0. unwanted columns and reasonableness\n",
    "before_important = before[['FILM', 'Fandango_Stars', 'Fandango_Ratingvalue', 'Fandango_votes', 'Fandango_Difference', 'Year']]\n",
    "after_important = after[['movie', 'year', 'fandango']]"
   ]
  },
  {
   "cell_type": "code",
   "execution_count": 7,
   "id": "a44952f3",
   "metadata": {},
   "outputs": [
    {
     "data": {
      "text/html": [
       "<div>\n",
       "<style scoped>\n",
       "    .dataframe tbody tr th:only-of-type {\n",
       "        vertical-align: middle;\n",
       "    }\n",
       "\n",
       "    .dataframe tbody tr th {\n",
       "        vertical-align: top;\n",
       "    }\n",
       "\n",
       "    .dataframe thead th {\n",
       "        text-align: right;\n",
       "    }\n",
       "</style>\n",
       "<table border=\"1\" class=\"dataframe\">\n",
       "  <thead>\n",
       "    <tr style=\"text-align: right;\">\n",
       "      <th></th>\n",
       "      <th>FILM</th>\n",
       "      <th>Fandango_Stars</th>\n",
       "      <th>Fandango_Ratingvalue</th>\n",
       "      <th>Fandango_votes</th>\n",
       "      <th>Fandango_Difference</th>\n",
       "      <th>Year</th>\n",
       "    </tr>\n",
       "  </thead>\n",
       "  <tbody>\n",
       "    <tr>\n",
       "      <th>count</th>\n",
       "      <td>146</td>\n",
       "      <td>146.000000</td>\n",
       "      <td>146.000000</td>\n",
       "      <td>146.000000</td>\n",
       "      <td>146.000000</td>\n",
       "      <td>146.000000</td>\n",
       "    </tr>\n",
       "    <tr>\n",
       "      <th>unique</th>\n",
       "      <td>146</td>\n",
       "      <td>NaN</td>\n",
       "      <td>NaN</td>\n",
       "      <td>NaN</td>\n",
       "      <td>NaN</td>\n",
       "      <td>NaN</td>\n",
       "    </tr>\n",
       "    <tr>\n",
       "      <th>top</th>\n",
       "      <td>Avengers: Age of Ultron (2015)</td>\n",
       "      <td>NaN</td>\n",
       "      <td>NaN</td>\n",
       "      <td>NaN</td>\n",
       "      <td>NaN</td>\n",
       "      <td>NaN</td>\n",
       "    </tr>\n",
       "    <tr>\n",
       "      <th>freq</th>\n",
       "      <td>1</td>\n",
       "      <td>NaN</td>\n",
       "      <td>NaN</td>\n",
       "      <td>NaN</td>\n",
       "      <td>NaN</td>\n",
       "      <td>NaN</td>\n",
       "    </tr>\n",
       "    <tr>\n",
       "      <th>mean</th>\n",
       "      <td>NaN</td>\n",
       "      <td>4.089041</td>\n",
       "      <td>3.845205</td>\n",
       "      <td>3848.787671</td>\n",
       "      <td>0.243836</td>\n",
       "      <td>2014.883562</td>\n",
       "    </tr>\n",
       "    <tr>\n",
       "      <th>std</th>\n",
       "      <td>NaN</td>\n",
       "      <td>0.540386</td>\n",
       "      <td>0.502831</td>\n",
       "      <td>6357.778617</td>\n",
       "      <td>0.152665</td>\n",
       "      <td>0.321854</td>\n",
       "    </tr>\n",
       "    <tr>\n",
       "      <th>min</th>\n",
       "      <td>NaN</td>\n",
       "      <td>3.000000</td>\n",
       "      <td>2.700000</td>\n",
       "      <td>35.000000</td>\n",
       "      <td>0.000000</td>\n",
       "      <td>2014.000000</td>\n",
       "    </tr>\n",
       "    <tr>\n",
       "      <th>25%</th>\n",
       "      <td>NaN</td>\n",
       "      <td>3.500000</td>\n",
       "      <td>3.500000</td>\n",
       "      <td>222.250000</td>\n",
       "      <td>0.100000</td>\n",
       "      <td>2015.000000</td>\n",
       "    </tr>\n",
       "    <tr>\n",
       "      <th>50%</th>\n",
       "      <td>NaN</td>\n",
       "      <td>4.000000</td>\n",
       "      <td>3.900000</td>\n",
       "      <td>1446.000000</td>\n",
       "      <td>0.200000</td>\n",
       "      <td>2015.000000</td>\n",
       "    </tr>\n",
       "    <tr>\n",
       "      <th>75%</th>\n",
       "      <td>NaN</td>\n",
       "      <td>4.500000</td>\n",
       "      <td>4.200000</td>\n",
       "      <td>4439.500000</td>\n",
       "      <td>0.400000</td>\n",
       "      <td>2015.000000</td>\n",
       "    </tr>\n",
       "    <tr>\n",
       "      <th>max</th>\n",
       "      <td>NaN</td>\n",
       "      <td>5.000000</td>\n",
       "      <td>4.800000</td>\n",
       "      <td>34846.000000</td>\n",
       "      <td>0.500000</td>\n",
       "      <td>2015.000000</td>\n",
       "    </tr>\n",
       "  </tbody>\n",
       "</table>\n",
       "</div>"
      ],
      "text/plain": [
       "                                  FILM  Fandango_Stars  Fandango_Ratingvalue  \\\n",
       "count                              146      146.000000            146.000000   \n",
       "unique                             146             NaN                   NaN   \n",
       "top     Avengers: Age of Ultron (2015)             NaN                   NaN   \n",
       "freq                                 1             NaN                   NaN   \n",
       "mean                               NaN        4.089041              3.845205   \n",
       "std                                NaN        0.540386              0.502831   \n",
       "min                                NaN        3.000000              2.700000   \n",
       "25%                                NaN        3.500000              3.500000   \n",
       "50%                                NaN        4.000000              3.900000   \n",
       "75%                                NaN        4.500000              4.200000   \n",
       "max                                NaN        5.000000              4.800000   \n",
       "\n",
       "        Fandango_votes  Fandango_Difference         Year  \n",
       "count       146.000000           146.000000   146.000000  \n",
       "unique             NaN                  NaN          NaN  \n",
       "top                NaN                  NaN          NaN  \n",
       "freq               NaN                  NaN          NaN  \n",
       "mean       3848.787671             0.243836  2014.883562  \n",
       "std        6357.778617             0.152665     0.321854  \n",
       "min          35.000000             0.000000  2014.000000  \n",
       "25%         222.250000             0.100000  2015.000000  \n",
       "50%        1446.000000             0.200000  2015.000000  \n",
       "75%        4439.500000             0.400000  2015.000000  \n",
       "max       34846.000000             0.500000  2015.000000  "
      ]
     },
     "execution_count": 7,
     "metadata": {},
     "output_type": "execute_result"
    }
   ],
   "source": [
    "#0. unwanted columns and reasonableness\n",
    "before_important.describe(include='all')"
   ]
  },
  {
   "cell_type": "code",
   "execution_count": 8,
   "id": "8fefaf13",
   "metadata": {},
   "outputs": [
    {
     "data": {
      "text/html": [
       "<div>\n",
       "<style scoped>\n",
       "    .dataframe tbody tr th:only-of-type {\n",
       "        vertical-align: middle;\n",
       "    }\n",
       "\n",
       "    .dataframe tbody tr th {\n",
       "        vertical-align: top;\n",
       "    }\n",
       "\n",
       "    .dataframe thead th {\n",
       "        text-align: right;\n",
       "    }\n",
       "</style>\n",
       "<table border=\"1\" class=\"dataframe\">\n",
       "  <thead>\n",
       "    <tr style=\"text-align: right;\">\n",
       "      <th></th>\n",
       "      <th>movie</th>\n",
       "      <th>year</th>\n",
       "      <th>fandango</th>\n",
       "    </tr>\n",
       "  </thead>\n",
       "  <tbody>\n",
       "    <tr>\n",
       "      <th>count</th>\n",
       "      <td>214</td>\n",
       "      <td>214.000000</td>\n",
       "      <td>214.000000</td>\n",
       "    </tr>\n",
       "    <tr>\n",
       "      <th>unique</th>\n",
       "      <td>214</td>\n",
       "      <td>NaN</td>\n",
       "      <td>NaN</td>\n",
       "    </tr>\n",
       "    <tr>\n",
       "      <th>top</th>\n",
       "      <td>10 Cloverfield Lane</td>\n",
       "      <td>NaN</td>\n",
       "      <td>NaN</td>\n",
       "    </tr>\n",
       "    <tr>\n",
       "      <th>freq</th>\n",
       "      <td>1</td>\n",
       "      <td>NaN</td>\n",
       "      <td>NaN</td>\n",
       "    </tr>\n",
       "    <tr>\n",
       "      <th>mean</th>\n",
       "      <td>NaN</td>\n",
       "      <td>2016.107477</td>\n",
       "      <td>3.894860</td>\n",
       "    </tr>\n",
       "    <tr>\n",
       "      <th>std</th>\n",
       "      <td>NaN</td>\n",
       "      <td>0.310444</td>\n",
       "      <td>0.516781</td>\n",
       "    </tr>\n",
       "    <tr>\n",
       "      <th>min</th>\n",
       "      <td>NaN</td>\n",
       "      <td>2016.000000</td>\n",
       "      <td>2.500000</td>\n",
       "    </tr>\n",
       "    <tr>\n",
       "      <th>25%</th>\n",
       "      <td>NaN</td>\n",
       "      <td>2016.000000</td>\n",
       "      <td>3.500000</td>\n",
       "    </tr>\n",
       "    <tr>\n",
       "      <th>50%</th>\n",
       "      <td>NaN</td>\n",
       "      <td>2016.000000</td>\n",
       "      <td>4.000000</td>\n",
       "    </tr>\n",
       "    <tr>\n",
       "      <th>75%</th>\n",
       "      <td>NaN</td>\n",
       "      <td>2016.000000</td>\n",
       "      <td>4.500000</td>\n",
       "    </tr>\n",
       "    <tr>\n",
       "      <th>max</th>\n",
       "      <td>NaN</td>\n",
       "      <td>2017.000000</td>\n",
       "      <td>5.000000</td>\n",
       "    </tr>\n",
       "  </tbody>\n",
       "</table>\n",
       "</div>"
      ],
      "text/plain": [
       "                      movie         year    fandango\n",
       "count                   214   214.000000  214.000000\n",
       "unique                  214          NaN         NaN\n",
       "top     10 Cloverfield Lane          NaN         NaN\n",
       "freq                      1          NaN         NaN\n",
       "mean                    NaN  2016.107477    3.894860\n",
       "std                     NaN     0.310444    0.516781\n",
       "min                     NaN  2016.000000    2.500000\n",
       "25%                     NaN  2016.000000    3.500000\n",
       "50%                     NaN  2016.000000    4.000000\n",
       "75%                     NaN  2016.000000    4.500000\n",
       "max                     NaN  2017.000000    5.000000"
      ]
     },
     "execution_count": 8,
     "metadata": {},
     "output_type": "execute_result"
    }
   ],
   "source": [
    "#0. unwanted columns and reasonableness\n",
    "after_important.describe(include='all')"
   ]
  },
  {
   "cell_type": "markdown",
   "id": "0077204c",
   "metadata": {},
   "source": [
    "As we can see, the minimum ranking is still considerably high, at 50%, as if to say 'there are no bad movies'. This is a strong indication there is still bias in the data."
   ]
  },
  {
   "cell_type": "code",
   "execution_count": 9,
   "id": "9a5092c9",
   "metadata": {},
   "outputs": [
    {
     "data": {
      "text/plain": [
       "2015    129\n",
       "2014     17\n",
       "Name: Year, dtype: int64"
      ]
     },
     "execution_count": 9,
     "metadata": {},
     "output_type": "execute_result"
    }
   ],
   "source": [
    "#0. unwanted columns and reasonableness\n",
    "before_important['Year'].value_counts()"
   ]
  },
  {
   "cell_type": "code",
   "execution_count": 10,
   "id": "e4fb6571",
   "metadata": {},
   "outputs": [
    {
     "data": {
      "text/plain": [
       "2016    191\n",
       "2017     23\n",
       "Name: year, dtype: int64"
      ]
     },
     "execution_count": 10,
     "metadata": {},
     "output_type": "execute_result"
    }
   ],
   "source": [
    "#0. unwanted columns and reasonableness \n",
    "after_important['year'].value_counts(dropna=False)"
   ]
  },
  {
   "cell_type": "markdown",
   "id": "dc580cf3",
   "metadata": {},
   "source": [
    "It is okay to have data from 2014 to 2017 according to our scope. It does not hurt the idea of results immediately before and after the critical article, it actually dilutes the seasonal trend liability by expanding the sample by roughly 15%."
   ]
  },
  {
   "cell_type": "code",
   "execution_count": 11,
   "id": "0edb07ef",
   "metadata": {},
   "outputs": [
    {
     "data": {
      "text/plain": [
       "4.0    82\n",
       "4.5    57\n",
       "3.5    50\n",
       "3.0    18\n",
       "2.5     6\n",
       "5.0     1\n",
       "Name: fandango, dtype: int64"
      ]
     },
     "execution_count": 11,
     "metadata": {},
     "output_type": "execute_result"
    }
   ],
   "source": [
    "#0. unwanted columns and reasonableness \n",
    "after_important['fandango'].value_counts(dropna=False)"
   ]
  },
  {
   "cell_type": "code",
   "execution_count": 12,
   "id": "9f436232",
   "metadata": {},
   "outputs": [
    {
     "data": {
      "text/plain": [
       "4.5    55\n",
       "4.0    41\n",
       "3.5    27\n",
       "3.0    12\n",
       "5.0    11\n",
       "Name: Fandango_Stars, dtype: int64"
      ]
     },
     "execution_count": 12,
     "metadata": {},
     "output_type": "execute_result"
    }
   ],
   "source": [
    "before_important['Fandango_Stars'].value_counts( dropna=False)"
   ]
  },
  {
   "cell_type": "code",
   "execution_count": 13,
   "id": "cc061ab7",
   "metadata": {
    "scrolled": true
   },
   "outputs": [
    {
     "data": {
      "text/html": [
       "<div>\n",
       "<style scoped>\n",
       "    .dataframe tbody tr th:only-of-type {\n",
       "        vertical-align: middle;\n",
       "    }\n",
       "\n",
       "    .dataframe tbody tr th {\n",
       "        vertical-align: top;\n",
       "    }\n",
       "\n",
       "    .dataframe thead th {\n",
       "        text-align: right;\n",
       "    }\n",
       "</style>\n",
       "<table border=\"1\" class=\"dataframe\">\n",
       "  <thead>\n",
       "    <tr style=\"text-align: right;\">\n",
       "      <th></th>\n",
       "      <th>year</th>\n",
       "      <th>fandango</th>\n",
       "      <th>pop</th>\n",
       "    </tr>\n",
       "    <tr>\n",
       "      <th>movie</th>\n",
       "      <th></th>\n",
       "      <th></th>\n",
       "      <th></th>\n",
       "    </tr>\n",
       "  </thead>\n",
       "  <tbody>\n",
       "    <tr>\n",
       "      <th>A Hologram for the King</th>\n",
       "      <td>2016</td>\n",
       "      <td>3.0</td>\n",
       "      <td>500</td>\n",
       "    </tr>\n",
       "    <tr>\n",
       "      <th>Captain America: Civil War</th>\n",
       "      <td>2016</td>\n",
       "      <td>4.5</td>\n",
       "      <td>35057</td>\n",
       "    </tr>\n",
       "    <tr>\n",
       "      <th>Cell</th>\n",
       "      <td>2016</td>\n",
       "      <td>3.0</td>\n",
       "      <td>17</td>\n",
       "    </tr>\n",
       "    <tr>\n",
       "      <th>Fantastic Beasts and Where to Find Them</th>\n",
       "      <td>2016</td>\n",
       "      <td>4.5</td>\n",
       "      <td>13400</td>\n",
       "    </tr>\n",
       "    <tr>\n",
       "      <th>Genius</th>\n",
       "      <td>2016</td>\n",
       "      <td>3.5</td>\n",
       "      <td>127</td>\n",
       "    </tr>\n",
       "    <tr>\n",
       "      <th>Max Steel</th>\n",
       "      <td>2016</td>\n",
       "      <td>3.5</td>\n",
       "      <td>493</td>\n",
       "    </tr>\n",
       "    <tr>\n",
       "      <th>Me Before You</th>\n",
       "      <td>2016</td>\n",
       "      <td>4.5</td>\n",
       "      <td>5263</td>\n",
       "    </tr>\n",
       "    <tr>\n",
       "      <th>Mechanic: Resurrection</th>\n",
       "      <td>2016</td>\n",
       "      <td>4.0</td>\n",
       "      <td>2247</td>\n",
       "    </tr>\n",
       "    <tr>\n",
       "      <th>Sully</th>\n",
       "      <td>2016</td>\n",
       "      <td>4.5</td>\n",
       "      <td>11877</td>\n",
       "    </tr>\n",
       "    <tr>\n",
       "      <th>Warcraft</th>\n",
       "      <td>2016</td>\n",
       "      <td>4.0</td>\n",
       "      <td>7271</td>\n",
       "    </tr>\n",
       "  </tbody>\n",
       "</table>\n",
       "</div>"
      ],
      "text/plain": [
       "                                         year  fandango    pop\n",
       "movie                                                         \n",
       "A Hologram for the King                  2016       3.0    500\n",
       "Captain America: Civil War               2016       4.5  35057\n",
       "Cell                                     2016       3.0     17\n",
       "Fantastic Beasts and Where to Find Them  2016       4.5  13400\n",
       "Genius                                   2016       3.5    127\n",
       "Max Steel                                2016       3.5    493\n",
       "Me Before You                            2016       4.5   5263\n",
       "Mechanic: Resurrection                   2016       4.0   2247\n",
       "Sully                                    2016       4.5  11877\n",
       "Warcraft                                 2016       4.0   7271"
      ]
     },
     "execution_count": 13,
     "metadata": {},
     "output_type": "execute_result"
    }
   ],
   "source": [
    "#1. Are the samples really popular?\n",
    "after_important.sample(10, random_state=1)\n",
    "popularity = {'movie': ['Mechanic: Resurrection', 'Warcraft',\n",
    "                        'Max Steel', 'Me Before You',\n",
    "                        'Fantastic Beasts and Where to Find Them',\n",
    "                        'Cell', 'Genius', 'Sully',\n",
    "                        'A Hologram for the King', \n",
    "                        'Captain America: Civil War'\n",
    "                       ],\n",
    "              'pop': [2247, 7271,493, 5263, 13400, 17, 127, 11877, 500, 35057]}\n",
    "\n",
    "pop = pd.DataFrame.from_dict(popularity)\n",
    "pop\n",
    "merged = pd.merge(left = after_important, right=pop, on='movie').set_index('movie')\n",
    "merged"
   ]
  },
  {
   "cell_type": "markdown",
   "id": "4b2e9ebb",
   "metadata": {},
   "source": [
    "We use a random seed of 1, as is good practice to show we are not just trying a suitable random sample. As of April 2018, these are the fan ratings we find, merged in the table above. 90% of the movies in our sample are popular -except for \"Cell\". This is enough to move forward confidently. Let's check the same parameter on the 'before' dataset."
   ]
  },
  {
   "cell_type": "code",
   "execution_count": 14,
   "id": "ad59b131",
   "metadata": {},
   "outputs": [
    {
     "data": {
      "text/plain": [
       "0"
      ]
     },
     "execution_count": 14,
     "metadata": {},
     "output_type": "execute_result"
    }
   ],
   "source": [
    "#1. Are the samples really popular?\n",
    "sum(before_important['Fandango_votes']<30)"
   ]
  },
  {
   "cell_type": "markdown",
   "id": "84d7bcea",
   "metadata": {},
   "source": [
    "For the data on movies prior to the article, all entries in our data can be considered popular movies."
   ]
  },
  {
   "cell_type": "code",
   "execution_count": 15,
   "id": "3ea421ac",
   "metadata": {},
   "outputs": [
    {
     "name": "stdout",
     "output_type": "stream",
     "text": [
      "<class 'pandas.core.frame.DataFrame'>\n",
      "RangeIndex: 146 entries, 0 to 145\n",
      "Data columns (total 6 columns):\n",
      " #   Column                Non-Null Count  Dtype  \n",
      "---  ------                --------------  -----  \n",
      " 0   FILM                  146 non-null    object \n",
      " 1   Fandango_Stars        146 non-null    float64\n",
      " 2   Fandango_Ratingvalue  146 non-null    float64\n",
      " 3   Fandango_votes        146 non-null    int64  \n",
      " 4   Fandango_Difference   146 non-null    float64\n",
      " 5   Year                  146 non-null    int32  \n",
      "dtypes: float64(3), int32(1), int64(1), object(1)\n",
      "memory usage: 6.4+ KB\n"
     ]
    }
   ],
   "source": [
    "#2 Check for data type;\n",
    "before_important.info()"
   ]
  },
  {
   "cell_type": "code",
   "execution_count": 16,
   "id": "e757dad6",
   "metadata": {},
   "outputs": [
    {
     "name": "stdout",
     "output_type": "stream",
     "text": [
      "<class 'pandas.core.frame.DataFrame'>\n",
      "RangeIndex: 214 entries, 0 to 213\n",
      "Data columns (total 3 columns):\n",
      " #   Column    Non-Null Count  Dtype  \n",
      "---  ------    --------------  -----  \n",
      " 0   movie     214 non-null    object \n",
      " 1   year      214 non-null    int64  \n",
      " 2   fandango  214 non-null    float64\n",
      "dtypes: float64(1), int64(1), object(1)\n",
      "memory usage: 5.1+ KB\n"
     ]
    }
   ],
   "source": [
    "#2. Check for data type;\n",
    "after_important.info()"
   ]
  },
  {
   "cell_type": "markdown",
   "id": "cf8c072c",
   "metadata": {},
   "source": [
    "Things are fine when it comes to data type"
   ]
  },
  {
   "cell_type": "code",
   "execution_count": 17,
   "id": "430a3fff",
   "metadata": {},
   "outputs": [
    {
     "name": "stdout",
     "output_type": "stream",
     "text": [
      "before duplicated: 0\n",
      "after duplicated: 0\n"
     ]
    }
   ],
   "source": [
    "#3. missing/repeated data\n",
    "print('before duplicated: '+ str(sum(before_important.duplicated())) + '\\n' + 'after duplicated: ' + str(sum(after_important.duplicated())) )"
   ]
  },
  {
   "cell_type": "code",
   "execution_count": 18,
   "id": "b9cde4e6",
   "metadata": {},
   "outputs": [
    {
     "data": {
      "text/plain": [
       "Text(0.5, 23.38159722222222, 'Columns')"
      ]
     },
     "execution_count": 18,
     "metadata": {},
     "output_type": "execute_result"
    },
    {
     "data": {
      "image/png": "[encoded data removed]",
      "text/plain": [
       "<Figure size 640x480 with 1 Axes>"
      ]
     },
     "metadata": {},
     "output_type": "display_data"
    }
   ],
   "source": [
    "#3. missing/repeated data\n",
    "sns.heatmap(before_important.isnull(), cbar=False)\n",
    "plt.title('Raw data Heatmap: Before dataset')\n",
    "plt.ylabel('Row Index')\n",
    "plt.xlabel('Columns')"
   ]
  },
  {
   "cell_type": "code",
   "execution_count": 19,
   "id": "1ee56a40",
   "metadata": {},
   "outputs": [
    {
     "data": {
      "text/plain": [
       "Text(0.5, 23.52222222222222, 'Columns')"
      ]
     },
     "execution_count": 19,
     "metadata": {},
     "output_type": "execute_result"
    },
    {
     "data": {
      "image/png": "[encoded data removed]",
      "text/plain": [
       "<Figure size 640x480 with 1 Axes>"
      ]
     },
     "metadata": {},
     "output_type": "display_data"
    }
   ],
   "source": [
    "#3. missing/repeated data\n",
    "sns.heatmap(after_important.isnull(), cbar=False)\n",
    "plt.title('Raw data Heatmap: After dataset')\n",
    "plt.ylabel('Row Index')\n",
    "plt.xlabel('Columns')"
   ]
  },
  {
   "cell_type": "markdown",
   "id": "920db080",
   "metadata": {},
   "source": [
    "Our dataset looks solid: There is no missing nor repeated data, thus, no transformation is required.\n",
    "\n",
    "Summing up:\n",
    "\n",
    "0. relevant columns: we only keep data pertaining to Fandango reviews: \n",
    "* Before: 'FILM', 'Fandango_Stars', 'Fandango_Ratingvalue', 'Fandango_votes', 'Fandango_Difference';\n",
    "* After: 'movie', 'year', 'fandango'.\n",
    "1. are they really popular: from a random sampling of the 'after' data, 90% was popular, while all 'before' data checks that box.\n",
    "2. Data types: all proper;\n",
    "3. Missing/repeated data: nothing out of order."
   ]
  },
  {
   "cell_type": "markdown",
   "id": "18ea69a6",
   "metadata": {},
   "source": [
    "## 6. Data Visualization and Analysis<a name=\"section6\"></a>\n",
    "\n",
    "1. Comparing distributions Shapes for Before and After\n",
    "2. Comparing relative frequencies\n",
    "3. Determining the Direction of the Change\n",
    "4. Are the data distributions signifficantly different?\n",
    "5. Finding the best movie rating aggregator website"
   ]
  },
  {
   "cell_type": "markdown",
   "id": "d32f2b39",
   "metadata": {},
   "source": [
    "### 6.1 Comparing distributions Shapes for Before and After"
   ]
  },
  {
   "cell_type": "code",
   "execution_count": 20,
   "id": "2c99c110",
   "metadata": {},
   "outputs": [
    {
     "data": {
      "image/png": "[encoded data removed]",
      "text/plain": [
       "<Figure size 640x480 with 1 Axes>"
      ]
     },
     "metadata": {},
     "output_type": "display_data"
    }
   ],
   "source": [
    "plt.style.use('fivethirtyeight')\n",
    "\n",
    "merged_rating = pd.merge(left=after_important['fandango'], right= before_important['Fandango_Stars'], how='left', left_index=True, right_index=True).rename({'Fandango_Stars':'before', 'fandango':'after'}, axis=1)\n",
    "merged_rating.sort_index().plot.kde(color=['r', 'lightgray'], grid=False)\n",
    "plt.axvline(merged_rating['before'].mean(), color='black', label='avg before', alpha=1)\n",
    "plt.axvline(merged_rating['after'].mean(), color='Black', label='avg after', alpha=0.5)\n",
    "\n",
    "plt.title(\"Fandango ratings slightly decrease after 538's article\")\n",
    "plt.legend()\n",
    "#plt.xlim([0,5])\n",
    "#plt.set_xticks([0, 0.5, 1.0, 1.5, 2.0, 2.5, 3.0, 3.5, 4.0, 4.5, 5.0])\n",
    "plt.show()\n"
   ]
  },
  {
   "cell_type": "markdown",
   "id": "536eea0a",
   "metadata": {},
   "source": [
    "The 'Before' distribution has a mean (4.08) slightly higher than 'After's (3.89), but not by much. We can see the kernel distribution is unclear about the rates' ranges: the minimum at 'Before' was 3 peaking at 5, while the minimun in 'After' was 2.5 peaking at 5.\n",
    "\n",
    "The shapes are somewhat similar, but we can see 'After' has more values concentrated around the mean, compared to 'Before'.\n",
    "\n",
    "By all available metrics, the 'After' movies are rated lower compared to 'Before', but by a very thin margin."
   ]
  },
  {
   "cell_type": "markdown",
   "id": "d08af466",
   "metadata": {},
   "source": [
    "## 6.2 Comparing relative frequencies"
   ]
  },
  {
   "cell_type": "code",
   "execution_count": 21,
   "id": "ade698f4",
   "metadata": {},
   "outputs": [
    {
     "data": {
      "image/png": "[encoded data removed]",
      "text/plain": [
       "<Figure size 640x480 with 1 Axes>"
      ]
     },
     "metadata": {},
     "output_type": "display_data"
    }
   ],
   "source": [
    "#Examining frequency tables for both periods:\n",
    "\n",
    "b_n = round(before['Fandango_Stars'].value_counts(normalize=True).sort_index()*100, 2)\n",
    "a_n = round(after['fandango'].value_counts(normalize=True).sort_index()*100, 2)\n",
    "\n",
    "# merged = pd.merge(left=a_n, right=b_n, left_index=True, right_index=True, how='left').rename({'Fandango_Stars': 'Before', 'fandango': 'After'}, axis=1)\n",
    "# merged.plot.hist(bins = 10, range = (0,5), align = 'left')\n",
    "before_important['Fandango_Stars'].plot.hist(bins = 10, range = (0,5.01), align = 'right', label='before', color='lightgray')\n",
    "after_important['fandango'].plot.hist(bins = 10, range = (0,5.01), align = 'right', alpha=0.5, label='after', color='red')\n",
    "plt.legend()\n",
    "plt.xlim([2,5])\n",
    "plt.grid(False)\n",
    "plt.xlabel('Ratings by Fandango')\n",
    "plt.title(\"'A' ratings drastically reduced after 538's article\")\n",
    "plt.show()"
   ]
  },
  {
   "cell_type": "markdown",
   "id": "c45e42bc",
   "metadata": {},
   "source": [
    "In the After data, there were way fewer movies in the very high ratings range (4.5-5 stars): Before 45% vs 27% After.\n",
    "\n",
    "The minimum rating is also lower in the After dataset: 2.8% were rated as 2.5 stars, whereas the minimum before was 3 starts. There is a tangible difference in the 2 distributions that the table better represents here rather than the kernel: this, again, is an iterated proxy for the real distribution.\n",
    "\n",
    "Naturally, if there is less data in After for higher scores, there will be more of it in the lower scores, as we can observe from 2.5 to 4 stars ratings."
   ]
  },
  {
   "cell_type": "markdown",
   "id": "6f2ec447",
   "metadata": {},
   "source": [
    "### 6.3 Determining the Direction of the Change\n",
    "\n"
   ]
  },
  {
   "cell_type": "code",
   "execution_count": 22,
   "id": "3a719835",
   "metadata": {},
   "outputs": [],
   "source": [
    "mean_b = round(before_important['Fandango_Stars'].mean(), 2)\n",
    "mean_a = round(after_important['fandango'].mean(), 2)\n",
    "median_b = round(before_important['Fandango_Stars'].median(), 2)\n",
    "median_a = round(after_important['fandango'].median(), 2)\n",
    "mode_b = round(before_important['Fandango_Stars'].mode()[0], 2)\n",
    "mode_a = round(after_important['fandango'].mode()[0], 2)\n",
    "\n",
    "comp = pd.DataFrame()\n",
    "comp['Before'] = [mean_b, median_b, mode_b]\n",
    "comp['After'] = [mean_a, median_a, mode_a]\n",
    "comp.index = ['mean', 'median', 'mode']"
   ]
  },
  {
   "cell_type": "code",
   "execution_count": 23,
   "id": "072315db",
   "metadata": {},
   "outputs": [
    {
     "data": {
      "image/png": "[encoded data removed]",
      "text/plain": [
       "<Figure size 800x500 with 1 Axes>"
      ]
     },
     "metadata": {},
     "output_type": "display_data"
    }
   ],
   "source": [
    "comp['Before'].plot.bar(color = 'lightgray', align = 'center', label = 'Before', width = .25)\n",
    "comp['After'].plot.bar(color = 'red', align = 'edge', label = 'After', width = .25,\n",
    "                         rot = 0, figsize = (8,5))\n",
    "\n",
    "plt.title('Comparing summary statistics: Before vs After', y = 1.07)\n",
    "plt.ylim(0,5.5)\n",
    "plt.yticks([0, 0.5, 1.0, 1.5, 2.0, 2.5, 3.0, 3.5, 4.0, 4.5, 5.0])\n",
    "plt.ylabel('Stars')\n",
    "plt.legend(framealpha = 0, loc = 'upper center')\n",
    "plt.grid(False)\n",
    "plt.show()"
   ]
  },
  {
   "cell_type": "code",
   "execution_count": 24,
   "id": "3a851abb",
   "metadata": {},
   "outputs": [
    {
     "data": {
      "text/plain": [
       "0.04889975550122243"
      ]
     },
     "execution_count": 24,
     "metadata": {},
     "output_type": "execute_result"
    }
   ],
   "source": [
    "(comp.loc['mean'][0] - comp.loc['mean'][1]) / comp.loc['mean'][0]"
   ]
  },
  {
   "cell_type": "markdown",
   "id": "f78a8d38",
   "metadata": {},
   "source": [
    "The mean rating droppen nearly 4% after the article, whereas the mode became 4 from 4.5 (11.1%). So there is a slight change in direction towards downgrading popular movies, but not very significant.\n",
    "\n",
    "### 6.4 Are these two distributions significantly different?\n",
    "\n",
    "We can deploy the [Mann-Whitney U test](https://machinelearningmastery.com/statistical-hypothesis-tests-in-python-cheat-sheet/),adopting an alpha of 0.05 as a threshold for p-value. (It assumes observations are independent and identically distributed, and that they also can be ranked)."
   ]
  },
  {
   "cell_type": "code",
   "execution_count": 25,
   "id": "d266ec6b",
   "metadata": {},
   "outputs": [
    {
     "name": "stdout",
     "output_type": "stream",
     "text": [
      "stat=18714.000, p=0.001\n",
      "Probably different distributions\n"
     ]
    }
   ],
   "source": [
    "from scipy.stats import mannwhitneyu\n",
    "stat, p = mannwhitneyu(before_important['Fandango_Stars'], after_important['fandango'])\n",
    "print('stat=%.3f, p=%.3f' % (stat, p))\n",
    "if p > 0.05:\n",
    " print('Probably the same distribution')\n",
    "else:\n",
    " print('Probably different distributions')"
   ]
  },
  {
   "cell_type": "markdown",
   "id": "9fda97ea",
   "metadata": {},
   "source": [
    "The Mann-Whitney U test shows a p-value 50x smaller than our alpha, which rejects the null hypothesis of both before and after distributions being statistically the same. This proves that the two discrete distributions are significantly different, as we could testify from the general statistics we plotted above.\n",
    "\n",
    "### 6.5 Finding the best movie rating aggregator website\n",
    "\n",
    "This is a subjective approach. The author of [this post](https://medium.freecodecamp.org/whose-reviews-should-you-trust-imdb-rotten-tomatoes-metacritic-or-fandango-7d1010c6cf19) argues for the ideal being a normal distribution of scores, where half of movies are below average, and therefore, not worth watching. We'll use his threshold to compare both data below, for both before and after:"
   ]
  },
  {
   "cell_type": "code",
   "execution_count": 26,
   "id": "29b34e9b",
   "metadata": {},
   "outputs": [],
   "source": [
    "before_compare = before[['FILM', 'IMDB_norm_round', 'RT_norm_round', 'Metacritic_norm_round', 'Fandango_Stars']].rename({'FILM':'movie', 'RT_norm_round': 'rotten_tomatoes','Metacritic_norm_round':'metascore',\n",
    "                                                      'IMDB_norm_round': 'imdb', 'Fandango_Stars':'fandango'}, axis=1)\n",
    "after_compare = after.iloc[:, [0, -4, -3, -2 ,6]].rename({'nr_metascore': 'metascore', 'nr_imdb':'imdb', \n",
    "                                                       'nr_tmeter': 'rotten_tomatoes', 'fandango':'fandango'}, axis=1)\n",
    "\n",
    "full_data = pd.concat([after_compare, before_compare])"
   ]
  },
  {
   "cell_type": "code",
   "execution_count": 27,
   "id": "a7115ddd",
   "metadata": {},
   "outputs": [
    {
     "data": {
      "image/png": "[encoded data removed]",
      "text/plain": [
       "<Figure size 2000x1500 with 4 Axes>"
      ]
     },
     "metadata": {},
     "output_type": "display_data"
    }
   ],
   "source": [
    "fig, axs = plt.subplots(2,2,figsize=(20,15))\n",
    "\n",
    "axs[0,0].hist(full_data['metascore'], bins = 10, range = (0,5.01), align = 'right', density=True, color=['r'])\n",
    "axs[0,0].set_xticks([0.5,1,1.5,2,2.5,3,3.5,4,4.5,5])\n",
    "axs[0,0].set_yticks([])\n",
    "axs[0,0].set_xlabel('Normalized Rating')\n",
    "axs[0,0].set_title('Metascore is the closest to normal')\n",
    "axs[0,0].axvline(1.5, color='black', alpha = 0.4)\n",
    "axs[0,0].axvline(3.5, color='black', alpha = 0.4)\n",
    "axs[0,0].grid(False)\n",
    "\n",
    "axs[0,1].hist(full_data['imdb'], bins = 10, range = (0,5.01), align = 'right', color='lightgray')\n",
    "axs[0,1].set_xticks([0.5,1,1.5,2,2.5,3,3.5,4,4.5,5])\n",
    "axs[0,1].set_yticks([])\n",
    "axs[0,1].set_xlabel('Normalized Rating')\n",
    "axs[0,1].set_title('IMDB: reasonable normal distribution')\n",
    "axs[0,1].axvline(1.5, color='black', alpha = 0.4)\n",
    "axs[0,1].axvline(3.5, color='black', alpha = 0.4)\n",
    "axs[0,1].grid(False)\n",
    "\n",
    "axs[1,0].hist(full_data['rotten_tomatoes'], bins = 10, range = (0,5.01), align = 'right', color='lightgray')\n",
    "axs[1,0].set_xticks([0.5,1,1.5,2,2.5,3,3.5,4,4.5,5])\n",
    "axs[1,0].set_xlabel('Normalized Rating')\n",
    "axs[1,0].set_yticks([])\n",
    "axs[1,0].set_title('Rotten Tomatoes: V-shaped due to simpler good/bad ratings')\n",
    "axs[1,0].axvline(1.5, color='black', alpha = 0.4)\n",
    "axs[1,0].axvline(3.5, color='black', alpha = 0.4)\n",
    "axs[1,0].grid(False)\n",
    "\n",
    "axs[1,1].hist(full_data['fandango'], bins = 10, range = (0,5.01), align = 'right', color='lightgray')\n",
    "axs[1,1].set_xticks([0.5,1,1.5,2,2.5,3,3.5,4,4.5,5])\n",
    "axs[1,1].set_yticks([])\n",
    "axs[1,1].set_xlabel('Normalized Rating')\n",
    "axs[1,1].set_title('Fandango: clearly biased')\n",
    "axs[1,1].axvline(1.5, color='black', alpha = 0.4)\n",
    "axs[1,1].axvline(3.5, color='black', alpha = 0.4)\n",
    "axs[1,1].grid(False)\n",
    "\n",
    "plt.show()"
   ]
  },
  {
   "cell_type": "markdown",
   "id": "6688568b",
   "metadata": {},
   "source": [
    "From the histograms above, we can see that Metascore has the closes distribution to what would be considered ideal. IMDB can also be recommended, as its distribution is only slightly skewed to the right and it is very hard to get an excellent grade. There is something to the notion that even a bad movie can't be extremely low-graded, for it is still a piece of work that many agreed to work on for which there is a public. So maybe tilting it a bit to the bright side is not all wrong.\n",
    "\n",
    "Rotten Tomatoes has its distribution in a V-shape/uniform distribution due to its rating system apparently simpler, consisting of only 'Good' vs 'Bad'. We plot Fandango to enable comparisons, but we can clearly put in perspective their bias towards over-rating movies."
   ]
  },
  {
   "cell_type": "markdown",
   "id": "45e1672e",
   "metadata": {},
   "source": [
    "## 7. Conclusion<a name=\"section7\"></a>\n",
    "\n",
    "We could observe that Fandango downgraded their ratings slightly after FiveThrityEight's article, as it shows from both mode (4.5->4) and mean(4.09->3.89) decreases. The most sensible change was the drop in top ratings(4.5-5), which fell from 45% to 27% of total movies. However, their ratings still skewing a lot to the right and assume all movies are worth watching, which raises many eyebrows. The two datasets are signifficantly different considering the ratings distributions before and after the article.\n",
    "\n",
    "The website closest to what would be ideal is metascore, given its nearly normalized rating distribution centered around the average, being difficult to knock a home-run but also to flunk completely.\n",
    "\n",
    "Next steps:\n",
    "\n",
    "* Collect recent movie ratings data and formulate your own research questions. You can take a look [at this blog post](https://www.freecodecamp.org/news/whose-reviews-should-you-trust-imdb-rotten-tomatoes-metacritic-or-fandango-7d1010c6cf19) to learn how to scrape movie ratings for IMDB and Metacritic."
   ]
  }
 ],
 "metadata": {
  "kernelspec": {
   "display_name": "Python 3 (ipykernel)",
   "language": "python",
   "name": "python3"
  },
  "language_info": {
   "codemirror_mode": {
    "name": "ipython",
    "version": 3
   },
   "file_extension": ".py",
   "mimetype": "text/x-python",
   "name": "python",
   "nbconvert_exporter": "python",
   "pygments_lexer": "ipython3",
   "version": "3.10.9"
  }
 },
 "nbformat": 4,
 "nbformat_minor": 5
}
