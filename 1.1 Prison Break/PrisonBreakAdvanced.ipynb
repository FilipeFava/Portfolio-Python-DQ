{
 "cells": [
  {
   "cell_type": "markdown",
   "metadata": {},
   "source": [
    "# Art mimics life: looking into Helicopter Prison Escapes\n",
    "\n",
    "![banner](https://i.ytimg.com/vi/7l8djgc5Zo4/maxresdefault.jpg)"
   ]
  },
  {
   "cell_type": "markdown",
   "metadata": {},
   "source": [
    "## Abstract\n",
    "\n",
    "Going to jail can mean the end of the road to anyone's life plans and dreams, but many don't settle with the idea. In this project, we look into helicopter prison breaks to come up with some stats on these cinematographic escapes and come up with the following:\n",
    " - The years with the most attempts (3) are 2009, 2007, 2001, 1986;\n",
    " - the top country for prison escape attempts was France (15), US (8);\n",
    " - The countries where criminals are more likely to succeed: Brazil(100%), US(75%), Canada(75%), and France(72%).\n",
    " - In France and in Greece, prisoners managed to escape with a helicopter twice."
   ]
  },
  {
   "cell_type": "markdown",
   "metadata": {},
   "source": [
    "## Table of Contents\n",
    "\n",
    "1. [**Introduction**](#section1)\n",
    "2. [**Goals and limitations**](#section2)\n",
    "3. [**Methodology**](#section3)\n",
    "4. [**Metadata**](#section4)\n",
    "5. [**Data Exploration and Transformation**](#section5)      \n",
    "6. [**Data Visualization and Analysis**](#section6)\n",
    "7. [**Conclusion**](#section7)\n",
    "\n"
   ]
  },
  {
   "cell_type": "markdown",
   "metadata": {},
   "source": [
    "## 1. Introduction <a name=\"section1\"></a>\n",
    "\n",
    "It is one of the most cliche scripts out there in Hollywood, and it works everytime: perilous criminals end up in jail, where everyday redemption only seems further away. Eventually, the sufferer sees an opportunity to flee, and we are caught up in the drama and adrenaline of that escape, wishing for that vile person to beat the system.\n",
    "\n",
    "Despite all the \"Prision Break\"s and \"Shawshank Redemption\"s out there, there are actually real life prison escape attempts every year, and here we turn into the data of a specific and dramatic kind: helicopter escapes, that have been registered since 1971."
   ]
  },
  {
   "cell_type": "markdown",
   "metadata": {},
   "source": [
    "## 2. Goals and limitations<a name=\"section2\"></a>"
   ]
  },
  {
   "cell_type": "markdown",
   "metadata": {},
   "source": [
    "In this project, we'll analyze a dataset of [helicopter prison escapes](https://en.wikipedia.org/wiki/List_of_helicopter_prison_escapes#Actual_attempts) with python to answer:\n",
    "- 1- In which year did the most helicopter prison break attempts occur?\n",
    "- 2- In which countries do the most attempted helicopter prison breaks occur?\n",
    "- 3- In which countries are the escapes more likely to succeed?\n",
    "\n",
    "Limitations:\n",
    "- this is the very first project of the python program, so naturally the dataset is simpler and smaller: the amount of insights and further developments are very limited."
   ]
  },
  {
   "cell_type": "markdown",
   "metadata": {},
   "source": [
    "## 3. Methodology <a name=\"section3\"></a>\n",
    "In this project we deploy pandas to manipulate the data from the imported url data, as well as matplotlib and seaborn to help with visualizations for maximum values, as well as statistics on a group level."
   ]
  },
  {
   "cell_type": "markdown",
   "metadata": {},
   "source": [
    "# 4. Metadata <a name=\"section4\"></a>\n",
    "\n",
    "The data is obtained from the collaborative online encyclopedia, Wikipedia. It contains data spanning from 1971 to 2020, in 15 countries, prison names, as well as fugitives and details on each attempt."
   ]
  },
  {
   "cell_type": "markdown",
   "metadata": {},
   "source": [
    "## 5. Data Exploration and Transformation <a name=\"section5\"></a>"
   ]
  },
  {
   "cell_type": "markdown",
   "metadata": {},
   "source": [
    "In this step, we will:\n",
    "- (1): fetch the data;\n",
    "- (2): make it into a pandas dataframe\n",
    "- (3): Check for data type, missing data, unwanted columns and reasonableness."
   ]
  },
  {
   "cell_type": "code",
   "execution_count": 1,
   "metadata": {},
   "outputs": [
    {
     "name": "stdout",
     "output_type": "stream",
     "text": [
      "[    0                                                  1\n",
      "0 NaN  This list is incomplete; you can help by addin...,                   Date                                        Prison name  \\\n",
      "0      August 19, 1971                              Santa Martha Acatitla   \n",
      "1     October 31, 1973                                      Mountjoy Jail   \n",
      "2         May 24, 1978                 United States Penitentiary, Marion   \n",
      "3    February 27, 1981             Fleury-Mérogis, Essonne, Ile de France   \n",
      "4          May 7, 1981                    Orsainville Prison, Quebec City   \n",
      "5        January, 1983                              Pentridge (HM Prison)   \n",
      "6    December 19, 1985  Perry Correctional Institution, Pelzer, South ...   \n",
      "7    December 31, 1985  Cândido Mendes penitentiary, Ilha Grande, Rio ...   \n",
      "8         May 26, 1986                                 Prison de la Santé   \n",
      "9     November 5, 1986           Federal Correctional Institution, Dublin   \n",
      "10   November 23, 1986                         Prigione di Rebibbia, Roma   \n",
      "11   December 10, 1987                                Gartree (HM Prison)   \n",
      "12       July 11, 1988                         Penitentiary of New Mexico   \n",
      "13      April 17, 1989                Federal Holding Facility, Miami, FL   \n",
      "14     August 19, 1989              Arkansas Valley Correctional Facility   \n",
      "15       June 19, 1990                Kent Penitentiary, British Columbia   \n",
      "16       April 7, 1991        Rio Piedras State Penitentiary, Puerto Rico   \n",
      "17   February 24, 1992                                        Lyon Prison   \n",
      "18       December 1992                     Touraine Central Prison, Tours   \n",
      "19       June 17, 1993                     Touraine Central Prison, Tours   \n",
      "20   December 30, 1996                     High Security Prison, Santiago   \n",
      "21  September 18, 1997                                  De Geerhorst jail   \n",
      "22      March 25, 1999           Metropolitan Remand and Reception Centre   \n",
      "23        June 5, 2000  Martin Treatment Center for Sexually Violent P...   \n",
      "24   December 13, 2000                                        Lyon prison   \n",
      "25    January 19, 2001                                      Luynes prison   \n",
      "26      March 24, 2001                                  Draguignan prison   \n",
      "27        May 28, 2001                                     Fresnes prison   \n",
      "28    January 17, 2002                           Parada Neto Penitentiary   \n",
      "29   December 30, 2002                   Las Cucharas prison, Puerto Rico   \n",
      "30       April 4, 2003                                      Luynes prison   \n",
      "31           July 2005                                             France   \n",
      "32   December 10, 2005                                       Aiton Prison   \n",
      "33        June 6, 2006                                  Korydallos Prison   \n",
      "34      April 15, 2007                               Lantin Prison, Liège   \n",
      "35       July 15, 2007                                      Grasse prison   \n",
      "36    October 28, 2007                                       Ittre prison   \n",
      "37   February 22, 2009                                  Korydallos Prison   \n",
      "38      April 27, 2009                           Domenjod Prison, Réunion   \n",
      "39       July 23, 2009                                             Bruges   \n",
      "40       June 25, 2010             HM Prison Isle of Wight, Isle of Wight   \n",
      "41      March 22, 2012                          Sheksna, Penal colony N17   \n",
      "42   February 24, 2013                            Trikala Prison, Trikala   \n",
      "43      March 17, 2013            Saint-Jérôme Detention Facility, Quebec   \n",
      "44        June 7, 2014             Orsainville Detention Facility, Quebec   \n",
      "45   February 22, 2016                                              Thiva   \n",
      "46        July 1, 2018                                   Réau, near Paris   \n",
      "47  September 25, 2020                            Forest prison, Brussels   \n",
      "\n",
      "           Country Succeeded  \\\n",
      "0           Mexico       Yes   \n",
      "1          Ireland       Yes   \n",
      "2    United States        No   \n",
      "3           France       Yes   \n",
      "4           Canada        No   \n",
      "5        Australia        No   \n",
      "6    United States       Yes   \n",
      "7           Brazil       Yes   \n",
      "8           France       Yes   \n",
      "9    United States       Yes   \n",
      "10           Italy       Yes   \n",
      "11  United Kingdom       Yes   \n",
      "12   United States       Yes   \n",
      "13   United States        No   \n",
      "14   United States       Yes   \n",
      "15          Canada       Yes   \n",
      "16     Puerto Rico       Yes   \n",
      "17          France       Yes   \n",
      "18          France        No   \n",
      "19          France        No   \n",
      "20           Chile       Yes   \n",
      "21     Netherlands        No   \n",
      "22       Australia       Yes   \n",
      "23   United States       Yes   \n",
      "24          France       Yes   \n",
      "25          France       Yes   \n",
      "26          France       Yes   \n",
      "27          France        No   \n",
      "28          Brazil       Yes   \n",
      "29   United States       Yes   \n",
      "30          France       Yes   \n",
      "31          France        No   \n",
      "32          France       Yes   \n",
      "33          Greece       Yes   \n",
      "34         Belgium       Yes   \n",
      "35          France       Yes   \n",
      "36         Belgium        No   \n",
      "37          Greece       Yes   \n",
      "38          France       Yes   \n",
      "39         Belgium       Yes   \n",
      "40  United Kingdom        No   \n",
      "41          Russia       Yes   \n",
      "42          Greece        No   \n",
      "43          Canada       Yes   \n",
      "44          Canada       Yes   \n",
      "45          Greece        No   \n",
      "46          France       Yes   \n",
      "47         Belgium        No   \n",
      "\n",
      "                                           Escapee(s)  \\\n",
      "0   Joel David Kaplan Carlos Antonio Contreras Castro   \n",
      "1               JB O'Hagan Seamus Twomey Kevin Mallon   \n",
      "2   Garrett Brock Trapnell Martin Joseph McNally J...   \n",
      "3                        Gérard Dupré Daniel Beaumont   \n",
      "4   Marina Paquet (hijacker) Giles Arseneault (pri...   \n",
      "5                                      David McMillan   \n",
      "6   James Rodney Leonard William Douglas Ballew Je...   \n",
      "7     José Carlos dos Reis Encina, a.k.a. \"Escadinha\"   \n",
      "8                                      Michel Vaujour   \n",
      "9                                      Samantha Lopez   \n",
      "10  André Bellaïche Gianluigi Esposito Luciano Cip...   \n",
      "11                         Sydney Draper John Kendall   \n",
      "12        Mahoney Danny Francis Mitchell Randy Lackey   \n",
      "13                                         Ben Kramer   \n",
      "14                       Ralph Brown Freddie Gonzales   \n",
      "15                           Robert Ford David Thomas   \n",
      "16                                       William Lane   \n",
      "17                                                  —   \n",
      "18                                                  —   \n",
      "19                                     Michel Vaujour   \n",
      "20  Four members of the Manuel Rodriguez Patriotic...   \n",
      "21                                                  —   \n",
      "22                                       John Killick   \n",
      "23                                    Steven Whitsett   \n",
      "24                                                  —   \n",
      "25                                       Pascal Payet   \n",
      "26  Abdelhamid Carnous Emile Forma-Sari Jean-Phili...   \n",
      "27                                                  —   \n",
      "28                                                  —   \n",
      "29  Orlando Cartagena  Jose Rodriguez  Victor Diaz...   \n",
      "30         Eric Alboreo Franck Perletto Michel Valero   \n",
      "31                                                  —   \n",
      "32  Hubert Selles Jean-Claude Moretti Mohamed Bessame   \n",
      "33                               Vassilis Paleokostas   \n",
      "34                                     Eric Ferdinand   \n",
      "35                                       Pascal Payet   \n",
      "36                                    Nordin Benallal   \n",
      "37                    Vasilis Paleokostas Alket Rizai   \n",
      "38                        Alexin Jismy Fabrice Michel   \n",
      "39          Ashraf Sekkaki plus three other criminals   \n",
      "40                                     Brian Lawrence   \n",
      "41                                   Alexey Shestakov   \n",
      "42                                 Panagiotis Vlastos   \n",
      "43             Benjamin Hudon-Barbeau Danny Provençal   \n",
      "44          Yves Denis Denis Lefebvre Serge Pomerleau   \n",
      "45                          Pola Roupa Nikos Maziotis   \n",
      "46                                       Rédoine Faïd   \n",
      "47                                         Kristel A.   \n",
      "\n",
      "                                              Details  \n",
      "0   Joel David Kaplan was a New York businessman w...  \n",
      "1   On October 31, 1973, an IRA member hijacked a ...  \n",
      "2   43-year-old Barbara Ann Oswald hijacked a Sain...  \n",
      "3   With the help of Serge Coutel, Gérard Dupré an...  \n",
      "4   Marina Paquet held a sawed off shotgun against...  \n",
      "5   Arrests were made for the 1983 attempted helic...  \n",
      "6   One murderer, James Rodney Leonard, and two ar...  \n",
      "7   Drug lord Encina was rescued by José Carlos Gr...  \n",
      "8   Vaujour had 28 years to serve for attempted mu...  \n",
      "9   Ronald J. McIntosh walked away from a minimum ...  \n",
      "10  A red cross helicopter was hijacked by two gun...  \n",
      "11  At 3:16 p.m. on December 10, 1987, John Kendal...  \n",
      "12  Pilot Charles Bella was hired to fly a real es...  \n",
      "13  Famous Apache Boat owner and racer Ben Kramer ...  \n",
      "14  Colorado prison inmates Ralph Brown and Freddi...  \n",
      "15  Two prisoners, Robert Ford and David Thomas, e...  \n",
      "16  Inmates were able to escape when a helicopter ...  \n",
      "17  Two armed men hijacked a helicopter in Albertv...  \n",
      "18  The would-be escapee was shot dead by prison g...  \n",
      "19  Vaujour and his wife were imprisoned in 1991. ...  \n",
      "20  Two women suspected of involvement were Irish ...  \n",
      "21  A September 18, 1997 escape attempt ended in f...  \n",
      "22  On March 25, 1999, librarian Lucy Dudko hired ...  \n",
      "23  Steven Whitsett was serving a civil commitment...  \n",
      "24  Three men were able to escape a prison near Ly...  \n",
      "25  Pascal Payet escaped from Luynes prison using ...  \n",
      "26  On March 24, 2001, an armed man hijacked a hel...  \n",
      "27  (Although not a helicopter escape in the trues...  \n",
      "28  A helicopter was flown into Parada Neto Penite...  \n",
      "29  In Puerto Rico five prisoners escaped from Las...  \n",
      "30  Pascal Payet organized the helicopter escape o...  \n",
      "31  A helicopter escape attempt was foiled when al...  \n",
      "32  On December 10, 2005, two men rented a helicop...  \n",
      "33  On June 6, 2006, Nikos Paleokostas and another...  \n",
      "34  Two men hijacked a small helicopter and forced...  \n",
      "35  Pascal Payet, 43, escaped for the third time f...  \n",
      "36  On October 28, 2007, Nordin Benallal, self-sty...  \n",
      "37  On February 22, 2009, Vasilis Paleokostas and ...  \n",
      "38  Juliano Verbard was a guru of the Sorrowful an...  \n",
      "39  A man hijacked a helicopter and forced its pil...  \n",
      "40  While never actually reaching the execution ph...  \n",
      "41  Shestakov was whisked away from a penal colony...  \n",
      "42  The chartered helicopter – carrying two armed ...  \n",
      "43  Two inmates escaped from the Saint-Jérôme Dete...  \n",
      "44  Three detainees awaiting trial for murder esca...  \n",
      "45  A helicopter pilot foiled an attempted hijack ...  \n",
      "46  Faïd was helped by several heavily armed men w...  \n",
      "47  Three armed men hijacked a Eurocopter AS355 he...  ,     Media type                                         Title  Release date  \\\n",
      "0           TV     The Prisoner \"Arrival\" \"The Schizoid Man\"          1967   \n",
      "1           TV                                The Protectors          1972   \n",
      "2         Film                                      Breakout          1975   \n",
      "3         Book                 Superman: Last Son of Krypton          1979   \n",
      "4           TV                                      Prisoner          1984   \n",
      "5         Film                                      Cry Baby          1990   \n",
      "6         Film        Amerikanskaya doch (American Daughter)          1995   \n",
      "7           TV    Walker, Texas Ranger \"Codename: Dragonfly\"          1996   \n",
      "8         Film                                      Spy Game          2001   \n",
      "9           TV     Walker, Texas Ranger \"The Final Showdown\"          2001   \n",
      "10          TV                       CSI: Miami \"Body Count\"          2003   \n",
      "11          TV                   Kurtlar Vadisi \"Episode 61\"          2004   \n",
      "12        Film                       xXx: State of the Union          2005   \n",
      "13  Video Game      Tom Clancy's Splinter Cell: Double Agent          2006   \n",
      "14          TV                    Prison Break \"Bang & Burn\"          2007   \n",
      "15  Video Game                                  Saints Row 2          2008   \n",
      "16        Film                                   Escape Plan          2013   \n",
      "17        Film                                  Son of a Gun          2014   \n",
      "18          TV                  The Last Panthers \"Chimeras\"          2015   \n",
      "19          TV  The Blacklist (TV Series) \"The Cryptobanker\"          2019   \n",
      "20        Film                                   Black Widow          2021   \n",
      "\n",
      "   Succeeded                                            Details  \n",
      "0         No  The episodes \"Arrival\" and \"The Schizoid Man\" ...  \n",
      "1        Yes  In the episode \"Brother Hood\" S1 E2, Vladek Sh...  \n",
      "2        Yes  Breakout is a 1975 film where Robert Duvall es...  \n",
      "3         No  Near the middle of the book, a philologist nam...  \n",
      "4        Yes  In the Australian soap opera Prisoner, Marie W...  \n",
      "5         No  In the John Waters film, Cry-Baby (Johnny Depp...  \n",
      "6        Yes  In the end of the film Amerikanskaya doch (Ame...  \n",
      "7        Yes  In the Walker, Texas Ranger season 4 episode \"...  \n",
      "8        Yes  Spy Game is a 2001 drama film, directed by Ton...  \n",
      "9        Yes  In the Walker, Texas Ranger season 8 episode \"...  \n",
      "10       Yes  In the CSI:Miami season 1 episode \"Body Count\"...  \n",
      "11       Yes                                                NaN  \n",
      "12       Yes  In the film xXx: State of the Union, the chara...  \n",
      "13       Yes  In the video game Tom Clancy's Splinter Cell: ...  \n",
      "14        No  The third season of the television series Pris...  \n",
      "15       Yes  The protagonist frees a drug trafficker to hel...  \n",
      "16       Yes                                                NaN  \n",
      "17       Yes                                                NaN  \n",
      "18       Yes                                                NaN  \n",
      "19        No                                                NaN  \n",
      "20       Yes                                                NaN  ,   .mw-parser-output .navbar{display:inline;font-size:88%;font-weight:normal}.mw-parser-output .navbar-collapse{float:left;text-align:left}.mw-parser-output .navbar-boxtext{word-spacing:0}.mw-parser-output .navbar ul{display:inline-block;white-space:nowrap;line-height:inherit}.mw-parser-output .navbar-brackets::before{margin-right:-0.125em;content:\"[ \"}.mw-parser-output .navbar-brackets::after{margin-left:-0.125em;content:\" ]\"}.mw-parser-output .navbar li{word-spacing:-0.125em}.mw-parser-output .navbar a>span,.mw-parser-output .navbar a>abbr{text-decoration:inherit}.mw-parser-output .navbar-mini abbr{font-variant:small-caps;border-bottom:none;text-decoration:none;cursor:inherit}.mw-parser-output .navbar-ct-full{font-size:114%;margin:0 7em}.mw-parser-output .navbar-ct-mini{font-size:114%;margin:0 4em}vteHelicopters and other rotorcraft  \\\n",
      "0                                        Helicopters                                                                                                                                                                                                                                                                                                                                                                                                                                                                                                                                                                                                                                                                                                                                                                                                                            \n",
      "1                                           Articles                                                                                                                                                                                                                                                                                                                                                                                                                                                                                                                                                                                                                                                                                                                                                                                                                            \n",
      "2                                              Lists                                                                                                                                                                                                                                                                                                                                                                                                                                                                                                                                                                                                                                                                                                                                                                                                                            \n",
      "3                                   Other rotorcraft                                                                                                                                                                                                                                                                                                                                                                                                                                                                                                                                                                                                                                                                                                                                                                                                                            \n",
      "4                                           Articles                                                                                                                                                                                                                                                                                                                                                                                                                                                                                                                                                                                                                                                                                                                                                                                                                            \n",
      "5                                              Lists                                                                                                                                                                                                                                                                                                                                                                                                                                                                                                                                                                                                                                                                                                                                                                                                                            \n",
      "6                                            Hazards                                                                                                                                                                                                                                                                                                                                                                                                                                                                                                                                                                                                                                                                                                                                                                                                                            \n",
      "7                                            Related                                                                                                                                                                                                                                                                                                                                                                                                                                                                                                                                                                                                                                                                                                                                                                                                                            \n",
      "8              Aviation portal  Commons  WikiProject                                                                                                                                                                                                                                                                                                                                                                                                                                                                                                                                                                                                                                                                                                                                                                                                                            \n",
      "\n",
      "  .mw-parser-output .navbar{display:inline;font-size:88%;font-weight:normal}.mw-parser-output .navbar-collapse{float:left;text-align:left}.mw-parser-output .navbar-boxtext{word-spacing:0}.mw-parser-output .navbar ul{display:inline-block;white-space:nowrap;line-height:inherit}.mw-parser-output .navbar-brackets::before{margin-right:-0.125em;content:\"[ \"}.mw-parser-output .navbar-brackets::after{margin-left:-0.125em;content:\" ]\"}.mw-parser-output .navbar li{word-spacing:-0.125em}.mw-parser-output .navbar a>span,.mw-parser-output .navbar a>abbr{text-decoration:inherit}.mw-parser-output .navbar-mini abbr{font-variant:small-caps;border-bottom:none;text-decoration:none;cursor:inherit}.mw-parser-output .navbar-ct-full{font-size:114%;margin:0 7em}.mw-parser-output .navbar-ct-mini{font-size:114%;margin:0 4em}vteHelicopters and other rotorcraft.1  \\\n",
      "0  Articles Amphibious Attack Autorotation Backpa...                                                                                                                                                                                                                                                                                                                                                                                                                                                                                                                                                                                                                                                                                                                                                                                                                              \n",
      "1  Amphibious Attack Autorotation Backpack Disk l...                                                                                                                                                                                                                                                                                                                                                                                                                                                                                                                                                                                                                                                                                                                                                                                                                              \n",
      "2  Accidents and incidents Active Russian militar...                                                                                                                                                                                                                                                                                                                                                                                                                                                                                                                                                                                                                                                                                                                                                                                                                              \n",
      "3  Articles Autogyro CarterCopter Juan de la Cier...                                                                                                                                                                                                                                                                                                                                                                                                                                                                                                                                                                                                                                                                                                                                                                                                                              \n",
      "4  Autogyro CarterCopter Juan de la Cierva Skywor...                                                                                                                                                                                                                                                                                                                                                                                                                                                                                                                                                                                                                                                                                                                                                                                                                              \n",
      "5  Rotorcraft Manufacturers by country Most-produ...                                                                                                                                                                                                                                                                                                                                                                                                                                                                                                                                                                                                                                                                                                                                                                                                                              \n",
      "6  Dynamic rollover Ground resonance Loss of tail...                                                                                                                                                                                                                                                                                                                                                                                                                                                                                                                                                                                                                                                                                                                                                                                                                              \n",
      "7  Bamboo-copter Cyclogyro Helicopter height–velo...                                                                                                                                                                                                                                                                                                                                                                                                                                                                                                                                                                                                                                                                                                                                                                                                                              \n",
      "8              Aviation portal  Commons  WikiProject                                                                                                                                                                                                                                                                                                                                                                                                                                                                                                                                                                                                                                                                                                                                                                                                                              \n",
      "\n",
      "  .mw-parser-output .navbar{display:inline;font-size:88%;font-weight:normal}.mw-parser-output .navbar-collapse{float:left;text-align:left}.mw-parser-output .navbar-boxtext{word-spacing:0}.mw-parser-output .navbar ul{display:inline-block;white-space:nowrap;line-height:inherit}.mw-parser-output .navbar-brackets::before{margin-right:-0.125em;content:\"[ \"}.mw-parser-output .navbar-brackets::after{margin-left:-0.125em;content:\" ]\"}.mw-parser-output .navbar li{word-spacing:-0.125em}.mw-parser-output .navbar a>span,.mw-parser-output .navbar a>abbr{text-decoration:inherit}.mw-parser-output .navbar-mini abbr{font-variant:small-caps;border-bottom:none;text-decoration:none;cursor:inherit}.mw-parser-output .navbar-ct-full{font-size:114%;margin:0 7em}.mw-parser-output .navbar-ct-mini{font-size:114%;margin:0 4em}vteHelicopters and other rotorcraft.2  \n",
      "0                                                NaN                                                                                                                                                                                                                                                                                                                                                                                                                                                                                                                                                                                                                                                                                                                                                                                                                             \n",
      "1                                                NaN                                                                                                                                                                                                                                                                                                                                                                                                                                                                                                                                                                                                                                                                                                                                                                                                                             \n",
      "2                                                NaN                                                                                                                                                                                                                                                                                                                                                                                                                                                                                                                                                                                                                                                                                                                                                                                                                             \n",
      "3                                                NaN                                                                                                                                                                                                                                                                                                                                                                                                                                                                                                                                                                                                                                                                                                                                                                                                                             \n",
      "4                                                NaN                                                                                                                                                                                                                                                                                                                                                                                                                                                                                                                                                                                                                                                                                                                                                                                                                             \n",
      "5                                                NaN                                                                                                                                                                                                                                                                                                                                                                                                                                                                                                                                                                                                                                                                                                                                                                                                                             \n",
      "6                                                NaN                                                                                                                                                                                                                                                                                                                                                                                                                                                                                                                                                                                                                                                                                                                                                                                                                             \n",
      "7                                                NaN                                                                                                                                                                                                                                                                                                                                                                                                                                                                                                                                                                                                                                                                                                                                                                                                                             \n",
      "8              Aviation portal  Commons  WikiProject                                                                                                                                                                                                                                                                                                                                                                                                                                                                                                                                                                                                                                                                                                                                                                                                                             ,           0                                                  1\n",
      "0  Articles  Amphibious Attack Autorotation Backpack Disk l...\n",
      "1     Lists  Accidents and incidents Active Russian militar...,           0                                                  1\n",
      "0  Articles  Autogyro CarterCopter Juan de la Cierva Skywor...\n",
      "1     Lists  Rotorcraft Manufacturers by country Most-produ...,                        vteIncarceration  \\\n",
      "0                               Science   \n",
      "1                             Prisoners   \n",
      "2                               Prisons   \n",
      "3                                 Types   \n",
      "4                       Security levels   \n",
      "5                            Components   \n",
      "6                                Escape   \n",
      "7                               Culture   \n",
      "8                         Social issues   \n",
      "9                         Organizations   \n",
      "10                       Leaving prison   \n",
      "11                                Lists   \n",
      "12                           By country   \n",
      "13  Imprisonment and detention  Commons   \n",
      "\n",
      "                                   vteIncarceration.1  \n",
      "0   Criminology Penology Prison healthcare Punishm...  \n",
      "1   Criminal Detainee Hostage Political prisoner P...  \n",
      "2   Types Black site Corrective labor colony Debto...  \n",
      "3   Black site Corrective labor colony Debtors' Ex...  \n",
      "4   House arrest Administrative detention Open Max...  \n",
      "5   Cell Cemetery Commissary Food Library Nursery ...  \n",
      "6   Prison escapes Helicopter Prisoner-of-war escapes  \n",
      "7   Art Film Gang United States Literature America...  \n",
      "8   Abuse United States Contemplative programs Edu...  \n",
      "9   Association for the Protection and Assistance ...  \n",
      "10                        Rehabilitation Work release  \n",
      "11  Countries by incarceration rate Prisons Films ...  \n",
      "12  Australia Chile China Estonia Germany Iceland ...  \n",
      "13                Imprisonment and detention  Commons  ,                  0                                                  1\n",
      "0            Types  Black site Corrective labor colony Debtors' Ex...\n",
      "1  Security levels  House arrest Administrative detention Open Max...\n",
      "2       Components  Cell Cemetery Commissary Food Library Nursery ...\n",
      "3           Escape  Prison escapes Helicopter Prisoner-of-war escapes]\n"
     ]
    }
   ],
   "source": [
    "#(1)\n",
    "import pandas as pd\n",
    "import numpy as np\n",
    "import matplotlib.pyplot as plt\n",
    "import seaborn as sns\n",
    "import re\n",
    "\n",
    "import matplotlib.style as style\n",
    "style.use('fivethirtyeight')\n",
    "sns.set(style='darkgrid')\n",
    "\n",
    "url = \"https://en.wikipedia.org/wiki/List_of_helicopter_prison_escapes\"\n",
    "data=pd.read_html(url)\n",
    "print(data)"
   ]
  },
  {
   "cell_type": "markdown",
   "metadata": {},
   "source": [
    "The data seems to present us with a list of 2 tables, one recording prison escapes with 47 entries, the other containing tv shows with 20 entries. We are interested in analyzing only the first one."
   ]
  },
  {
   "cell_type": "code",
   "execution_count": 2,
   "metadata": {},
   "outputs": [
    {
     "data": {
      "text/html": [
       "<div>\n",
       "<style scoped>\n",
       "    .dataframe tbody tr th:only-of-type {\n",
       "        vertical-align: middle;\n",
       "    }\n",
       "\n",
       "    .dataframe tbody tr th {\n",
       "        vertical-align: top;\n",
       "    }\n",
       "\n",
       "    .dataframe thead th {\n",
       "        text-align: right;\n",
       "    }\n",
       "</style>\n",
       "<table border=\"1\" class=\"dataframe\">\n",
       "  <thead>\n",
       "    <tr style=\"text-align: right;\">\n",
       "      <th></th>\n",
       "      <th>Date</th>\n",
       "      <th>Prison name</th>\n",
       "      <th>Country</th>\n",
       "      <th>Succeeded</th>\n",
       "      <th>Escapee(s)</th>\n",
       "      <th>Details</th>\n",
       "    </tr>\n",
       "  </thead>\n",
       "  <tbody>\n",
       "    <tr>\n",
       "      <th>0</th>\n",
       "      <td>August 19, 1971</td>\n",
       "      <td>Santa Martha Acatitla</td>\n",
       "      <td>Mexico</td>\n",
       "      <td>Yes</td>\n",
       "      <td>Joel David Kaplan Carlos Antonio Contreras Castro</td>\n",
       "      <td>Joel David Kaplan was a New York businessman w...</td>\n",
       "    </tr>\n",
       "    <tr>\n",
       "      <th>1</th>\n",
       "      <td>October 31, 1973</td>\n",
       "      <td>Mountjoy Jail</td>\n",
       "      <td>Ireland</td>\n",
       "      <td>Yes</td>\n",
       "      <td>JB O'Hagan Seamus Twomey Kevin Mallon</td>\n",
       "      <td>On October 31, 1973, an IRA member hijacked a ...</td>\n",
       "    </tr>\n",
       "    <tr>\n",
       "      <th>2</th>\n",
       "      <td>May 24, 1978</td>\n",
       "      <td>United States Penitentiary, Marion</td>\n",
       "      <td>United States</td>\n",
       "      <td>No</td>\n",
       "      <td>Garrett Brock Trapnell Martin Joseph McNally J...</td>\n",
       "      <td>43-year-old Barbara Ann Oswald hijacked a Sain...</td>\n",
       "    </tr>\n",
       "    <tr>\n",
       "      <th>3</th>\n",
       "      <td>February 27, 1981</td>\n",
       "      <td>Fleury-Mérogis, Essonne, Ile de France</td>\n",
       "      <td>France</td>\n",
       "      <td>Yes</td>\n",
       "      <td>Gérard Dupré Daniel Beaumont</td>\n",
       "      <td>With the help of Serge Coutel, Gérard Dupré an...</td>\n",
       "    </tr>\n",
       "    <tr>\n",
       "      <th>4</th>\n",
       "      <td>May 7, 1981</td>\n",
       "      <td>Orsainville Prison, Quebec City</td>\n",
       "      <td>Canada</td>\n",
       "      <td>No</td>\n",
       "      <td>Marina Paquet (hijacker) Giles Arseneault (pri...</td>\n",
       "      <td>Marina Paquet held a sawed off shotgun against...</td>\n",
       "    </tr>\n",
       "  </tbody>\n",
       "</table>\n",
       "</div>"
      ],
      "text/plain": [
       "                Date                             Prison name        Country  \\\n",
       "0    August 19, 1971                   Santa Martha Acatitla         Mexico   \n",
       "1   October 31, 1973                           Mountjoy Jail        Ireland   \n",
       "2       May 24, 1978      United States Penitentiary, Marion  United States   \n",
       "3  February 27, 1981  Fleury-Mérogis, Essonne, Ile de France         France   \n",
       "4        May 7, 1981         Orsainville Prison, Quebec City         Canada   \n",
       "\n",
       "  Succeeded                                         Escapee(s)  \\\n",
       "0       Yes  Joel David Kaplan Carlos Antonio Contreras Castro   \n",
       "1       Yes              JB O'Hagan Seamus Twomey Kevin Mallon   \n",
       "2        No  Garrett Brock Trapnell Martin Joseph McNally J...   \n",
       "3       Yes                       Gérard Dupré Daniel Beaumont   \n",
       "4        No  Marina Paquet (hijacker) Giles Arseneault (pri...   \n",
       "\n",
       "                                             Details  \n",
       "0  Joel David Kaplan was a New York businessman w...  \n",
       "1  On October 31, 1973, an IRA member hijacked a ...  \n",
       "2  43-year-old Barbara Ann Oswald hijacked a Sain...  \n",
       "3  With the help of Serge Coutel, Gérard Dupré an...  \n",
       "4  Marina Paquet held a sawed off shotgun against...  "
      ]
     },
     "execution_count": 2,
     "metadata": {},
     "output_type": "execute_result"
    }
   ],
   "source": [
    "#(2)\n",
    "data=pd.read_html(url, match='Prison name')\n",
    "\n",
    "#convert list do dataframe\n",
    "\n",
    "data=data[0]\n",
    "data.head()"
   ]
  },
  {
   "cell_type": "code",
   "execution_count": 3,
   "metadata": {},
   "outputs": [
    {
     "data": {
      "text/html": [
       "<div>\n",
       "<style scoped>\n",
       "    .dataframe tbody tr th:only-of-type {\n",
       "        vertical-align: middle;\n",
       "    }\n",
       "\n",
       "    .dataframe tbody tr th {\n",
       "        vertical-align: top;\n",
       "    }\n",
       "\n",
       "    .dataframe thead th {\n",
       "        text-align: right;\n",
       "    }\n",
       "</style>\n",
       "<table border=\"1\" class=\"dataframe\">\n",
       "  <thead>\n",
       "    <tr style=\"text-align: right;\">\n",
       "      <th></th>\n",
       "      <th>Date</th>\n",
       "      <th>Prison name</th>\n",
       "      <th>Country</th>\n",
       "      <th>Succeeded</th>\n",
       "      <th>Escapee(s)</th>\n",
       "      <th>Details</th>\n",
       "    </tr>\n",
       "  </thead>\n",
       "  <tbody>\n",
       "    <tr>\n",
       "      <th>count</th>\n",
       "      <td>48</td>\n",
       "      <td>48</td>\n",
       "      <td>48</td>\n",
       "      <td>48</td>\n",
       "      <td>48</td>\n",
       "      <td>48</td>\n",
       "    </tr>\n",
       "    <tr>\n",
       "      <th>unique</th>\n",
       "      <td>48</td>\n",
       "      <td>45</td>\n",
       "      <td>15</td>\n",
       "      <td>2</td>\n",
       "      <td>40</td>\n",
       "      <td>48</td>\n",
       "    </tr>\n",
       "    <tr>\n",
       "      <th>top</th>\n",
       "      <td>August 19, 1971</td>\n",
       "      <td>Luynes prison</td>\n",
       "      <td>France</td>\n",
       "      <td>Yes</td>\n",
       "      <td>—</td>\n",
       "      <td>Joel David Kaplan was a New York businessman w...</td>\n",
       "    </tr>\n",
       "    <tr>\n",
       "      <th>freq</th>\n",
       "      <td>1</td>\n",
       "      <td>2</td>\n",
       "      <td>15</td>\n",
       "      <td>34</td>\n",
       "      <td>7</td>\n",
       "      <td>1</td>\n",
       "    </tr>\n",
       "  </tbody>\n",
       "</table>\n",
       "</div>"
      ],
      "text/plain": [
       "                   Date    Prison name Country Succeeded Escapee(s)  \\\n",
       "count                48             48      48        48         48   \n",
       "unique               48             45      15         2         40   \n",
       "top     August 19, 1971  Luynes prison  France       Yes          —   \n",
       "freq                  1              2      15        34          7   \n",
       "\n",
       "                                                  Details  \n",
       "count                                                  48  \n",
       "unique                                                 48  \n",
       "top     Joel David Kaplan was a New York businessman w...  \n",
       "freq                                                    1  "
      ]
     },
     "execution_count": 3,
     "metadata": {},
     "output_type": "execute_result"
    }
   ],
   "source": [
    "#(3)\n",
    "data.describe(include='all')"
   ]
  },
  {
   "cell_type": "code",
   "execution_count": 4,
   "metadata": {},
   "outputs": [
    {
     "name": "stdout",
     "output_type": "stream",
     "text": [
      "<class 'pandas.core.frame.DataFrame'>\n",
      "RangeIndex: 48 entries, 0 to 47\n",
      "Data columns (total 6 columns):\n",
      " #   Column       Non-Null Count  Dtype \n",
      "---  ------       --------------  ----- \n",
      " 0   Date         48 non-null     object\n",
      " 1   Prison name  48 non-null     object\n",
      " 2   Country      48 non-null     object\n",
      " 3   Succeeded    48 non-null     object\n",
      " 4   Escapee(s)   48 non-null     object\n",
      " 5   Details      48 non-null     object\n",
      "dtypes: object(6)\n",
      "memory usage: 2.4+ KB\n"
     ]
    }
   ],
   "source": [
    "data.info()"
   ]
  },
  {
   "cell_type": "markdown",
   "metadata": {},
   "source": [
    "- (2) There are missing values '-' in the 'Escapees' column.\n",
    "- The escapee names are compressed (when it is more than one by row)\n",
    "- Date column should be a datetime object\n",
    "- (3)'Details' column can be dropped from the table\n",
    "- (1)'Escapee(s)' and 'Prison name' column could change to easier names\n",
    "- Data seems reasonable"
   ]
  },
  {
   "cell_type": "markdown",
   "metadata": {},
   "source": [
    "\n",
    "- (1): Change column names\n",
    "- (2): Change data type, including the placeholder for missing data (—)\n",
    "- (3): Drop unwanted columns"
   ]
  },
  {
   "cell_type": "code",
   "execution_count": 5,
   "metadata": {},
   "outputs": [],
   "source": [
    "#(1)\n",
    "data.rename(columns={'Prison name': 'Prison', 'Escapee(s)': 'Escapees'}, inplace=True)"
   ]
  },
  {
   "cell_type": "code",
   "execution_count": 6,
   "metadata": {},
   "outputs": [],
   "source": [
    "#(2)\n",
    "data['Date'] = pd.to_datetime(data['Date'], infer_datetime_format=True)\n",
    "data['Succeeded'] = data['Succeeded'].str.contains(r'[Yy]es')\n",
    "data.replace('—', np.nan, inplace=True)"
   ]
  },
  {
   "cell_type": "code",
   "execution_count": 7,
   "metadata": {},
   "outputs": [],
   "source": [
    "#(3)\n",
    "data.drop('Details', axis=1, inplace=True)"
   ]
  },
  {
   "cell_type": "code",
   "execution_count": 8,
   "metadata": {},
   "outputs": [
    {
     "data": {
      "text/html": [
       "<div>\n",
       "<style scoped>\n",
       "    .dataframe tbody tr th:only-of-type {\n",
       "        vertical-align: middle;\n",
       "    }\n",
       "\n",
       "    .dataframe tbody tr th {\n",
       "        vertical-align: top;\n",
       "    }\n",
       "\n",
       "    .dataframe thead th {\n",
       "        text-align: right;\n",
       "    }\n",
       "</style>\n",
       "<table border=\"1\" class=\"dataframe\">\n",
       "  <thead>\n",
       "    <tr style=\"text-align: right;\">\n",
       "      <th></th>\n",
       "      <th>Date</th>\n",
       "      <th>Prison</th>\n",
       "      <th>Country</th>\n",
       "      <th>Succeeded</th>\n",
       "      <th>Escapees</th>\n",
       "    </tr>\n",
       "  </thead>\n",
       "  <tbody>\n",
       "    <tr>\n",
       "      <th>0</th>\n",
       "      <td>1971-08-19</td>\n",
       "      <td>Santa Martha Acatitla</td>\n",
       "      <td>Mexico</td>\n",
       "      <td>True</td>\n",
       "      <td>Joel David Kaplan Carlos Antonio Contreras Castro</td>\n",
       "    </tr>\n",
       "    <tr>\n",
       "      <th>1</th>\n",
       "      <td>1973-10-31</td>\n",
       "      <td>Mountjoy Jail</td>\n",
       "      <td>Ireland</td>\n",
       "      <td>True</td>\n",
       "      <td>JB O'Hagan Seamus Twomey Kevin Mallon</td>\n",
       "    </tr>\n",
       "    <tr>\n",
       "      <th>2</th>\n",
       "      <td>1978-05-24</td>\n",
       "      <td>United States Penitentiary, Marion</td>\n",
       "      <td>United States</td>\n",
       "      <td>False</td>\n",
       "      <td>Garrett Brock Trapnell Martin Joseph McNally J...</td>\n",
       "    </tr>\n",
       "    <tr>\n",
       "      <th>3</th>\n",
       "      <td>1981-02-27</td>\n",
       "      <td>Fleury-Mérogis, Essonne, Ile de France</td>\n",
       "      <td>France</td>\n",
       "      <td>True</td>\n",
       "      <td>Gérard Dupré Daniel Beaumont</td>\n",
       "    </tr>\n",
       "    <tr>\n",
       "      <th>4</th>\n",
       "      <td>1981-05-07</td>\n",
       "      <td>Orsainville Prison, Quebec City</td>\n",
       "      <td>Canada</td>\n",
       "      <td>False</td>\n",
       "      <td>Marina Paquet (hijacker) Giles Arseneault (pri...</td>\n",
       "    </tr>\n",
       "  </tbody>\n",
       "</table>\n",
       "</div>"
      ],
      "text/plain": [
       "        Date                                  Prison        Country  \\\n",
       "0 1971-08-19                   Santa Martha Acatitla         Mexico   \n",
       "1 1973-10-31                           Mountjoy Jail        Ireland   \n",
       "2 1978-05-24      United States Penitentiary, Marion  United States   \n",
       "3 1981-02-27  Fleury-Mérogis, Essonne, Ile de France         France   \n",
       "4 1981-05-07         Orsainville Prison, Quebec City         Canada   \n",
       "\n",
       "   Succeeded                                           Escapees  \n",
       "0       True  Joel David Kaplan Carlos Antonio Contreras Castro  \n",
       "1       True              JB O'Hagan Seamus Twomey Kevin Mallon  \n",
       "2      False  Garrett Brock Trapnell Martin Joseph McNally J...  \n",
       "3       True                       Gérard Dupré Daniel Beaumont  \n",
       "4      False  Marina Paquet (hijacker) Giles Arseneault (pri...  "
      ]
     },
     "execution_count": 8,
     "metadata": {},
     "output_type": "execute_result"
    }
   ],
   "source": [
    "data.head()"
   ]
  },
  {
   "cell_type": "markdown",
   "metadata": {},
   "source": [
    "## 6. Data Visualization and Analysis <a name=\"section6\"></a>"
   ]
  },
  {
   "cell_type": "markdown",
   "metadata": {},
   "source": [
    "In this step, we will manipulate the data, enabling us to respectivelly address the questions set in the goals by grouping them:\n",
    "- (1). by Year  \n",
    "- (2). by Country\n",
    "- (3). by success rate by country"
   ]
  },
  {
   "cell_type": "code",
   "execution_count": 9,
   "metadata": {},
   "outputs": [
    {
     "data": {
      "text/plain": [
       "1986    3\n",
       "2001    3\n",
       "2007    3\n",
       "2009    3\n",
       "Name: Date, dtype: int64"
      ]
     },
     "execution_count": 9,
     "metadata": {},
     "output_type": "execute_result"
    }
   ],
   "source": [
    "#(1)\n",
    "data_by_year = data['Date'].dt.year.value_counts().sort_index()\n",
    "data_by_year[data_by_year.values == data_by_year.max()] "
   ]
  },
  {
   "cell_type": "code",
   "execution_count": 10,
   "metadata": {},
   "outputs": [],
   "source": [
    "#(1) a palette to highlight the max values in the visualization\n",
    "def apply_max_palette(series, max_color='red', other_color='lightgray'):\n",
    "    return[max_color if year == series.max() else other_color for year in series]"
   ]
  },
  {
   "cell_type": "code",
   "execution_count": 11,
   "metadata": {},
   "outputs": [
    {
     "data": {
      "image/png": "[encoded data removed]",
      "text/plain": [
       "<Figure size 640x480 with 1 Axes>"
      ]
     },
     "metadata": {},
     "output_type": "display_data"
    }
   ],
   "source": [
    "#(1)\n",
    "sns.barplot(x=data_by_year.index, y=data_by_year.values, palette=apply_max_palette(data_by_year))\n",
    "plt.title('Helicopter Prison Escapes by Year')\n",
    "plt.xticks(rotation=90)\n",
    "plt.yticks(ticks=[0,1,2,3])\n",
    "plt.show()\n"
   ]
  },
  {
   "cell_type": "markdown",
   "metadata": {},
   "source": [
    "'Helicopter Prison Escapes by Year', above, clearly depicts the years with the most ocurrences: 1986, 2001, 2007, 2009, whereas 18 of the 50 years analyzed have no occurrences (36%)."
   ]
  },
  {
   "cell_type": "code",
   "execution_count": 12,
   "metadata": {},
   "outputs": [
    {
     "data": {
      "image/png": "[encoded data removed]",
      "text/plain": [
       "<Figure size 640x480 with 1 Axes>"
      ]
     },
     "metadata": {},
     "output_type": "display_data"
    }
   ],
   "source": [
    "#(2) by country\n",
    "data_by_country = data['Country'].value_counts()\n",
    "sns.barplot(x=data_by_country.values, y= data_by_country.index, palette=apply_max_palette(data_by_country))\n",
    "plt.title('Helicopter Prison Escapes by Country')\n",
    "plt.xticks(rotation=90)\n",
    "plt.show()"
   ]
  },
  {
   "cell_type": "code",
   "execution_count": 13,
   "metadata": {},
   "outputs": [
    {
     "data": {
      "text/plain": [
       "Michel Vaujour                                              2\n",
       "Pascal Payet                                                2\n",
       "Gérard Dupré Daniel Beaumont                                1\n",
       "Abdelhamid Carnous Emile Forma-Sari Jean-Philippe Lecase    1\n",
       "Eric Alboreo Franck Perletto Michel Valero                  1\n",
       "Hubert Selles Jean-Claude Moretti Mohamed Bessame           1\n",
       "Alexin Jismy Fabrice Michel                                 1\n",
       "Rédoine Faïd                                                1\n",
       "Name: Escapees, dtype: int64"
      ]
     },
     "execution_count": 13,
     "metadata": {},
     "output_type": "execute_result"
    }
   ],
   "source": [
    "#(2). by Country\n",
    "escapee_rank = data[data['Country']=='France']['Escapees'].value_counts()\n",
    "escapee_rank"
   ]
  },
  {
   "cell_type": "code",
   "execution_count": 14,
   "metadata": {},
   "outputs": [
    {
     "data": {
      "text/html": [
       "<div>\n",
       "<style scoped>\n",
       "    .dataframe tbody tr th:only-of-type {\n",
       "        vertical-align: middle;\n",
       "    }\n",
       "\n",
       "    .dataframe tbody tr th {\n",
       "        vertical-align: top;\n",
       "    }\n",
       "\n",
       "    .dataframe thead th {\n",
       "        text-align: right;\n",
       "    }\n",
       "</style>\n",
       "<table border=\"1\" class=\"dataframe\">\n",
       "  <thead>\n",
       "    <tr style=\"text-align: right;\">\n",
       "      <th></th>\n",
       "      <th>Date</th>\n",
       "      <th>Prison</th>\n",
       "      <th>Country</th>\n",
       "      <th>Succeeded</th>\n",
       "      <th>Escapees</th>\n",
       "    </tr>\n",
       "  </thead>\n",
       "  <tbody>\n",
       "    <tr>\n",
       "      <th>25</th>\n",
       "      <td>2001-01-19</td>\n",
       "      <td>Luynes prison</td>\n",
       "      <td>France</td>\n",
       "      <td>True</td>\n",
       "      <td>Pascal Payet</td>\n",
       "    </tr>\n",
       "    <tr>\n",
       "      <th>35</th>\n",
       "      <td>2007-07-15</td>\n",
       "      <td>Grasse prison</td>\n",
       "      <td>France</td>\n",
       "      <td>True</td>\n",
       "      <td>Pascal Payet</td>\n",
       "    </tr>\n",
       "  </tbody>\n",
       "</table>\n",
       "</div>"
      ],
      "text/plain": [
       "         Date         Prison Country  Succeeded      Escapees\n",
       "25 2001-01-19  Luynes prison  France       True  Pascal Payet\n",
       "35 2007-07-15  Grasse prison  France       True  Pascal Payet"
      ]
     },
     "execution_count": 14,
     "metadata": {},
     "output_type": "execute_result"
    }
   ],
   "source": [
    "data[data['Escapees']=='Pascal Payet']"
   ]
  },
  {
   "cell_type": "code",
   "execution_count": 15,
   "metadata": {},
   "outputs": [
    {
     "data": {
      "text/html": [
       "<div>\n",
       "<style scoped>\n",
       "    .dataframe tbody tr th:only-of-type {\n",
       "        vertical-align: middle;\n",
       "    }\n",
       "\n",
       "    .dataframe tbody tr th {\n",
       "        vertical-align: top;\n",
       "    }\n",
       "\n",
       "    .dataframe thead th {\n",
       "        text-align: right;\n",
       "    }\n",
       "</style>\n",
       "<table border=\"1\" class=\"dataframe\">\n",
       "  <thead>\n",
       "    <tr style=\"text-align: right;\">\n",
       "      <th></th>\n",
       "      <th>Date</th>\n",
       "      <th>Prison</th>\n",
       "      <th>Country</th>\n",
       "      <th>Succeeded</th>\n",
       "      <th>Escapees</th>\n",
       "    </tr>\n",
       "  </thead>\n",
       "  <tbody>\n",
       "    <tr>\n",
       "      <th>8</th>\n",
       "      <td>1986-05-26</td>\n",
       "      <td>Prison de la Santé</td>\n",
       "      <td>France</td>\n",
       "      <td>True</td>\n",
       "      <td>Michel Vaujour</td>\n",
       "    </tr>\n",
       "    <tr>\n",
       "      <th>19</th>\n",
       "      <td>1993-06-17</td>\n",
       "      <td>Touraine Central Prison, Tours</td>\n",
       "      <td>France</td>\n",
       "      <td>False</td>\n",
       "      <td>Michel Vaujour</td>\n",
       "    </tr>\n",
       "  </tbody>\n",
       "</table>\n",
       "</div>"
      ],
      "text/plain": [
       "         Date                          Prison Country  Succeeded  \\\n",
       "8  1986-05-26              Prison de la Santé  France       True   \n",
       "19 1993-06-17  Touraine Central Prison, Tours  France      False   \n",
       "\n",
       "          Escapees  \n",
       "8   Michel Vaujour  \n",
       "19  Michel Vaujour  "
      ]
     },
     "execution_count": 15,
     "metadata": {},
     "output_type": "execute_result"
    }
   ],
   "source": [
    "data[data['Escapees']=='Michel Vaujour']"
   ]
  },
  {
   "cell_type": "markdown",
   "metadata": {},
   "source": [
    "'Helicopter Prison Escapes by Country', above, illustrates how France is way ahead of the pack when it comes to attempted helicopter escapes (15), with the second place nearly halving all its ocurrences (8). It is astounding that in France, two prisoners attempted to escape twice, and one of them got away both times."
   ]
  },
  {
   "cell_type": "code",
   "execution_count": 16,
   "metadata": {},
   "outputs": [
    {
     "name": "stderr",
     "output_type": "stream",
     "text": [
      "C:\\Users\\thais\\AppData\\Local\\Temp\\ipykernel_18352\\1903654371.py:2: UserWarning: Boolean Series key will be reindexed to match DataFrame index.\n",
      "  rate_by_country = (data.set_index('Country')[data['Country'].value_counts()>1].groupby('Country')['Succeeded'].mean()*100).sort_values()\n"
     ]
    }
   ],
   "source": [
    "#(3) Here we decide to exclude countries that only had one incident.\n",
    "rate_by_country = (data.set_index('Country')[data['Country'].value_counts()>1].groupby('Country')['Succeeded'].mean()*100).sort_values()"
   ]
  },
  {
   "cell_type": "code",
   "execution_count": 17,
   "metadata": {},
   "outputs": [
    {
     "data": {
      "image/png": "[encoded data removed]",
      "text/plain": [
       "<Figure size 640x480 with 1 Axes>"
      ]
     },
     "metadata": {},
     "output_type": "display_data"
    }
   ],
   "source": [
    "sns.barplot(x=rate_by_country.values, y=rate_by_country.index, palette=apply_max_palette(rate_by_country))\n",
    "plt.title('Success Rate by Country')\n",
    "plt.xticks(ticks=[0,25,50,75,100])\n",
    "plt.xlabel('% successful')\n",
    "plt.show()"
   ]
  },
  {
   "cell_type": "markdown",
   "metadata": {},
   "source": [
    "In 'Success rate by Country', we can see all representative data of normalized success rate in our data: we dropped all single ocurrences. Therefore, it is more representative to say that Brazil leads with 100%, with Canada, United States trailing behind"
   ]
  },
  {
   "cell_type": "code",
   "execution_count": 18,
   "metadata": {},
   "outputs": [
    {
     "data": {
      "text/html": [
       "<div>\n",
       "<style scoped>\n",
       "    .dataframe tbody tr th:only-of-type {\n",
       "        vertical-align: middle;\n",
       "    }\n",
       "\n",
       "    .dataframe tbody tr th {\n",
       "        vertical-align: top;\n",
       "    }\n",
       "\n",
       "    .dataframe thead th {\n",
       "        text-align: right;\n",
       "    }\n",
       "</style>\n",
       "<table border=\"1\" class=\"dataframe\">\n",
       "  <thead>\n",
       "    <tr style=\"text-align: right;\">\n",
       "      <th></th>\n",
       "      <th>Date</th>\n",
       "      <th>Prison</th>\n",
       "      <th>Country</th>\n",
       "      <th>Succeeded</th>\n",
       "      <th>Escapees</th>\n",
       "    </tr>\n",
       "  </thead>\n",
       "  <tbody>\n",
       "    <tr>\n",
       "      <th>4</th>\n",
       "      <td>1981-05-07</td>\n",
       "      <td>Orsainville Prison, Quebec City</td>\n",
       "      <td>Canada</td>\n",
       "      <td>False</td>\n",
       "      <td>Marina Paquet (hijacker) Giles Arseneault (pri...</td>\n",
       "    </tr>\n",
       "    <tr>\n",
       "      <th>15</th>\n",
       "      <td>1990-06-19</td>\n",
       "      <td>Kent Penitentiary, British Columbia</td>\n",
       "      <td>Canada</td>\n",
       "      <td>True</td>\n",
       "      <td>Robert Ford David Thomas</td>\n",
       "    </tr>\n",
       "    <tr>\n",
       "      <th>43</th>\n",
       "      <td>2013-03-17</td>\n",
       "      <td>Saint-Jérôme Detention Facility, Quebec</td>\n",
       "      <td>Canada</td>\n",
       "      <td>True</td>\n",
       "      <td>Benjamin Hudon-Barbeau Danny Provençal</td>\n",
       "    </tr>\n",
       "    <tr>\n",
       "      <th>44</th>\n",
       "      <td>2014-06-07</td>\n",
       "      <td>Orsainville Detention Facility, Quebec</td>\n",
       "      <td>Canada</td>\n",
       "      <td>True</td>\n",
       "      <td>Yves Denis Denis Lefebvre Serge Pomerleau</td>\n",
       "    </tr>\n",
       "  </tbody>\n",
       "</table>\n",
       "</div>"
      ],
      "text/plain": [
       "         Date                                   Prison Country  Succeeded  \\\n",
       "4  1981-05-07          Orsainville Prison, Quebec City  Canada      False   \n",
       "15 1990-06-19      Kent Penitentiary, British Columbia  Canada       True   \n",
       "43 2013-03-17  Saint-Jérôme Detention Facility, Quebec  Canada       True   \n",
       "44 2014-06-07   Orsainville Detention Facility, Quebec  Canada       True   \n",
       "\n",
       "                                             Escapees  \n",
       "4   Marina Paquet (hijacker) Giles Arseneault (pri...  \n",
       "15                           Robert Ford David Thomas  \n",
       "43             Benjamin Hudon-Barbeau Danny Provençal  \n",
       "44          Yves Denis Denis Lefebvre Serge Pomerleau  "
      ]
     },
     "execution_count": 18,
     "metadata": {},
     "output_type": "execute_result"
    }
   ],
   "source": [
    "data[data['Country']=='Canada']"
   ]
  },
  {
   "cell_type": "markdown",
   "metadata": {},
   "source": [
    "In Canada, 2 attempts took place at the same facility, and, ironically, only the second one succeeded."
   ]
  },
  {
   "cell_type": "code",
   "execution_count": 19,
   "metadata": {},
   "outputs": [
    {
     "data": {
      "text/html": [
       "<div>\n",
       "<style scoped>\n",
       "    .dataframe tbody tr th:only-of-type {\n",
       "        vertical-align: middle;\n",
       "    }\n",
       "\n",
       "    .dataframe tbody tr th {\n",
       "        vertical-align: top;\n",
       "    }\n",
       "\n",
       "    .dataframe thead th {\n",
       "        text-align: right;\n",
       "    }\n",
       "</style>\n",
       "<table border=\"1\" class=\"dataframe\">\n",
       "  <thead>\n",
       "    <tr style=\"text-align: right;\">\n",
       "      <th></th>\n",
       "      <th>Date</th>\n",
       "      <th>Prison</th>\n",
       "      <th>Country</th>\n",
       "      <th>Succeeded</th>\n",
       "      <th>Escapees</th>\n",
       "    </tr>\n",
       "  </thead>\n",
       "  <tbody>\n",
       "    <tr>\n",
       "      <th>33</th>\n",
       "      <td>2006-06-06</td>\n",
       "      <td>Korydallos Prison</td>\n",
       "      <td>Greece</td>\n",
       "      <td>True</td>\n",
       "      <td>Vassilis Paleokostas</td>\n",
       "    </tr>\n",
       "    <tr>\n",
       "      <th>37</th>\n",
       "      <td>2009-02-22</td>\n",
       "      <td>Korydallos Prison</td>\n",
       "      <td>Greece</td>\n",
       "      <td>True</td>\n",
       "      <td>Vasilis Paleokostas Alket Rizai</td>\n",
       "    </tr>\n",
       "    <tr>\n",
       "      <th>42</th>\n",
       "      <td>2013-02-24</td>\n",
       "      <td>Trikala Prison, Trikala</td>\n",
       "      <td>Greece</td>\n",
       "      <td>False</td>\n",
       "      <td>Panagiotis Vlastos</td>\n",
       "    </tr>\n",
       "    <tr>\n",
       "      <th>45</th>\n",
       "      <td>2016-02-22</td>\n",
       "      <td>Thiva</td>\n",
       "      <td>Greece</td>\n",
       "      <td>False</td>\n",
       "      <td>Pola Roupa Nikos Maziotis</td>\n",
       "    </tr>\n",
       "  </tbody>\n",
       "</table>\n",
       "</div>"
      ],
      "text/plain": [
       "         Date                   Prison Country  Succeeded  \\\n",
       "33 2006-06-06        Korydallos Prison  Greece       True   \n",
       "37 2009-02-22        Korydallos Prison  Greece       True   \n",
       "42 2013-02-24  Trikala Prison, Trikala  Greece      False   \n",
       "45 2016-02-22                    Thiva  Greece      False   \n",
       "\n",
       "                           Escapees  \n",
       "33             Vassilis Paleokostas  \n",
       "37  Vasilis Paleokostas Alket Rizai  \n",
       "42               Panagiotis Vlastos  \n",
       "45        Pola Roupa Nikos Maziotis  "
      ]
     },
     "execution_count": 19,
     "metadata": {},
     "output_type": "execute_result"
    }
   ],
   "source": [
    "data[data['Country']=='Greece']"
   ]
  },
  {
   "cell_type": "markdown",
   "metadata": {},
   "source": [
    "In Greece within 3 years, the same prisoner succeeded twice from the same facility. And this was just the other day (2006-2009), so all the odds of digital surveillance and technology were already against him!"
   ]
  },
  {
   "cell_type": "markdown",
   "metadata": {},
   "source": [
    "## 7. Conclusion <a name=\"section7\"></a>"
   ]
  },
  {
   "cell_type": "markdown",
   "metadata": {},
   "source": [
    "In this project, we were able to extract, clean, manipulate, visualize and analyze our data to a satisfying level, however simple it may have been.\n",
    "\n",
    "Addressing our project questions:\n",
    "- The years with the most attempts shown in the chart are 2009, 2007, 2001, 1986.\n",
    "\n",
    "- the top country for prison escape attempts was France (15), US (8).\n",
    "\n",
    "- Brazil has the worst record against successful helicopter escapes (100%), closely followed by the United States(75%), Canada (75%), and France (72%).\n",
    "\n",
    "- In Greece and in France, prisoners managed to escape with a helicopter twice."
   ]
  }
 ],
 "metadata": {
  "kernelspec": {
   "display_name": "Python 3 (ipykernel)",
   "language": "python",
   "name": "python3"
  },
  "language_info": {
   "codemirror_mode": {
    "name": "ipython",
    "version": 3
   },
   "file_extension": ".py",
   "mimetype": "text/x-python",
   "name": "python",
   "nbconvert_exporter": "python",
   "pygments_lexer": "ipython3",
   "version": "3.10.9"
  }
 },
 "nbformat": 4,
 "nbformat_minor": 2
}
